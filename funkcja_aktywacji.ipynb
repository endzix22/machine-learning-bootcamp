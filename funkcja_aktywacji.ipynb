{
  "nbformat": 4,
  "nbformat_minor": 0,
  "metadata": {
    "colab": {
      "name": "funkcja_aktywacji.ipynb",
      "provenance": [],
      "authorship_tag": "ABX9TyNiH73lxRdwG8xVFTyGJ4CR",
      "include_colab_link": true
    },
    "kernelspec": {
      "name": "python3",
      "display_name": "Python 3"
    },
    "language_info": {
      "name": "python"
    }
  },
  "cells": [
    {
      "cell_type": "markdown",
      "metadata": {
        "id": "view-in-github",
        "colab_type": "text"
      },
      "source": [
        "<a href=\"https://colab.research.google.com/github/endzix22/machine-learning-bootcamp/blob/main/funkcja_aktywacji.ipynb\" target=\"_parent\"><img src=\"https://colab.research.google.com/assets/colab-badge.svg\" alt=\"Open In Colab\"/></a>"
      ]
    },
    {
      "cell_type": "code",
      "execution_count": 1,
      "metadata": {
        "id": "49-IpX8PTlTT"
      },
      "outputs": [],
      "source": [
        "import numpy as np\n",
        "import pandas as pd\n",
        "import matplotlib.pyplot as plt\n",
        "import plotly.graph_objects as go\n",
        "import plotly.express as px\n",
        "import math\n",
        "\n",
        "np.set_printoptions(precision=6)"
      ]
    },
    {
      "cell_type": "markdown",
      "source": [
        "#### <a name='a2'></a> 1.2 ReLU Function - Rectified Linear Unit\n",
        "####     $$f(x) = max(x, 0)$$\n"
      ],
      "metadata": {
        "id": "oiOLjjRJWqG1"
      }
    },
    {
      "cell_type": "code",
      "source": [
        "#funkcja aktywacji relu, \n",
        "#zwracamy maksimum z wart jaka przekazalismy\n",
        "def max_relu(x):\n",
        "  return max(x,0,0)\n"
      ],
      "metadata": {
        "id": "mjUi8DWFWoc_"
      },
      "execution_count": 2,
      "outputs": []
    },
    {
      "cell_type": "code",
      "source": [
        "for i in [-10., -5., 0., 5., 10.]:\n",
        "    print(max_relu(i))"
      ],
      "metadata": {
        "colab": {
          "base_uri": "https://localhost:8080/"
        },
        "id": "fNoRY4KVW3-3",
        "outputId": "a119a31b-54c9-4a43-9890-256336deee92"
      },
      "execution_count": 3,
      "outputs": [
        {
          "output_type": "stream",
          "name": "stdout",
          "text": [
            "0\n",
            "0\n",
            "0.0\n",
            "5.0\n",
            "10.0\n"
          ]
        }
      ]
    },
    {
      "cell_type": "code",
      "source": [
        "#zainicjujmy randomowe wartosci i je posortujmy\n",
        "data = np.random.randn(50)\n",
        "data = sorted(data)\n",
        "data"
      ],
      "metadata": {
        "colab": {
          "base_uri": "https://localhost:8080/"
        },
        "id": "NNAECrZRW-AT",
        "outputId": "11e55695-d8f2-4014-cc3f-da572fe0da62"
      },
      "execution_count": 4,
      "outputs": [
        {
          "output_type": "execute_result",
          "data": {
            "text/plain": [
              "[-1.6421040601215573,\n",
              " -1.3687727591084677,\n",
              " -1.1942688530053414,\n",
              " -1.1839803197481027,\n",
              " -0.9291212060956882,\n",
              " -0.8349752807992086,\n",
              " -0.8135600917655734,\n",
              " -0.527151322996668,\n",
              " -0.43898398244014175,\n",
              " -0.3936419167776829,\n",
              " -0.33726631866121876,\n",
              " -0.3050689192217199,\n",
              " -0.28984422664103754,\n",
              " -0.2706826664656796,\n",
              " -0.2604225157954868,\n",
              " -0.2594638452474605,\n",
              " -0.25656803597316735,\n",
              " -0.17746004241540583,\n",
              " -0.15407203740567194,\n",
              " -0.05911210445948866,\n",
              " 0.11872082631838429,\n",
              " 0.14585246837385493,\n",
              " 0.22003179860396194,\n",
              " 0.2835390028483133,\n",
              " 0.32659091362779025,\n",
              " 0.4119573725490942,\n",
              " 0.42458083689608056,\n",
              " 0.4528530464677943,\n",
              " 0.6286186723876884,\n",
              " 0.6657538873116698,\n",
              " 0.7505219101577106,\n",
              " 0.776691278787996,\n",
              " 0.7767999025237786,\n",
              " 0.8991955757213047,\n",
              " 0.9560211524767179,\n",
              " 0.965679938260422,\n",
              " 0.9894096669594803,\n",
              " 1.0074124540244078,\n",
              " 1.0267180315723627,\n",
              " 1.0948118739507207,\n",
              " 1.2366938657734183,\n",
              " 1.3319636178259575,\n",
              " 1.3604985687355768,\n",
              " 1.700782251198892,\n",
              " 1.7029739491350768,\n",
              " 1.7151279502876582,\n",
              " 1.7495496545631901,\n",
              " 1.8597705330768644,\n",
              " 2.221023958752454,\n",
              " 2.4952665152451465]"
            ]
          },
          "metadata": {},
          "execution_count": 4
        }
      ]
    },
    {
      "cell_type": "code",
      "source": [
        "# wygenerowanie danych do wykresu\n",
        "max_relu_data = np.array([max_relu(x) for x in data])\n",
        "max_relu_data"
      ],
      "metadata": {
        "colab": {
          "base_uri": "https://localhost:8080/"
        },
        "id": "XElUOjkwXVfR",
        "outputId": "eb3ecdf0-50ef-47b7-9c3a-fdb7490cb161"
      },
      "execution_count": 5,
      "outputs": [
        {
          "output_type": "execute_result",
          "data": {
            "text/plain": [
              "array([0.      , 0.      , 0.      , 0.      , 0.      , 0.      ,\n",
              "       0.      , 0.      , 0.      , 0.      , 0.      , 0.      ,\n",
              "       0.      , 0.      , 0.      , 0.      , 0.      , 0.      ,\n",
              "       0.      , 0.      , 0.118721, 0.145852, 0.220032, 0.283539,\n",
              "       0.326591, 0.411957, 0.424581, 0.452853, 0.628619, 0.665754,\n",
              "       0.750522, 0.776691, 0.7768  , 0.899196, 0.956021, 0.96568 ,\n",
              "       0.98941 , 1.007412, 1.026718, 1.094812, 1.236694, 1.331964,\n",
              "       1.360499, 1.700782, 1.702974, 1.715128, 1.74955 , 1.859771,\n",
              "       2.221024, 2.495267])"
            ]
          },
          "metadata": {},
          "execution_count": 5
        }
      ]
    },
    {
      "cell_type": "code",
      "source": [
        "#teraz utworzmy DF by moc pokazac dane przy pomocy plotly \n",
        "df=pd.DataFrame({'data':data,'max_relu_data':max_relu_data})\n",
        "df.head()"
      ],
      "metadata": {
        "colab": {
          "base_uri": "https://localhost:8080/",
          "height": 206
        },
        "id": "Os4DJMLvXanj",
        "outputId": "fba7bcde-d679-4dee-a4be-adc8e999209e"
      },
      "execution_count": 6,
      "outputs": [
        {
          "output_type": "execute_result",
          "data": {
            "text/plain": [
              "       data  max_relu_data\n",
              "0 -1.642104            0.0\n",
              "1 -1.368773            0.0\n",
              "2 -1.194269            0.0\n",
              "3 -1.183980            0.0\n",
              "4 -0.929121            0.0"
            ],
            "text/html": [
              "\n",
              "  <div id=\"df-298af9cf-9cac-4820-bd52-891d9a4d77dd\">\n",
              "    <div class=\"colab-df-container\">\n",
              "      <div>\n",
              "<style scoped>\n",
              "    .dataframe tbody tr th:only-of-type {\n",
              "        vertical-align: middle;\n",
              "    }\n",
              "\n",
              "    .dataframe tbody tr th {\n",
              "        vertical-align: top;\n",
              "    }\n",
              "\n",
              "    .dataframe thead th {\n",
              "        text-align: right;\n",
              "    }\n",
              "</style>\n",
              "<table border=\"1\" class=\"dataframe\">\n",
              "  <thead>\n",
              "    <tr style=\"text-align: right;\">\n",
              "      <th></th>\n",
              "      <th>data</th>\n",
              "      <th>max_relu_data</th>\n",
              "    </tr>\n",
              "  </thead>\n",
              "  <tbody>\n",
              "    <tr>\n",
              "      <th>0</th>\n",
              "      <td>-1.642104</td>\n",
              "      <td>0.0</td>\n",
              "    </tr>\n",
              "    <tr>\n",
              "      <th>1</th>\n",
              "      <td>-1.368773</td>\n",
              "      <td>0.0</td>\n",
              "    </tr>\n",
              "    <tr>\n",
              "      <th>2</th>\n",
              "      <td>-1.194269</td>\n",
              "      <td>0.0</td>\n",
              "    </tr>\n",
              "    <tr>\n",
              "      <th>3</th>\n",
              "      <td>-1.183980</td>\n",
              "      <td>0.0</td>\n",
              "    </tr>\n",
              "    <tr>\n",
              "      <th>4</th>\n",
              "      <td>-0.929121</td>\n",
              "      <td>0.0</td>\n",
              "    </tr>\n",
              "  </tbody>\n",
              "</table>\n",
              "</div>\n",
              "      <button class=\"colab-df-convert\" onclick=\"convertToInteractive('df-298af9cf-9cac-4820-bd52-891d9a4d77dd')\"\n",
              "              title=\"Convert this dataframe to an interactive table.\"\n",
              "              style=\"display:none;\">\n",
              "        \n",
              "  <svg xmlns=\"http://www.w3.org/2000/svg\" height=\"24px\"viewBox=\"0 0 24 24\"\n",
              "       width=\"24px\">\n",
              "    <path d=\"M0 0h24v24H0V0z\" fill=\"none\"/>\n",
              "    <path d=\"M18.56 5.44l.94 2.06.94-2.06 2.06-.94-2.06-.94-.94-2.06-.94 2.06-2.06.94zm-11 1L8.5 8.5l.94-2.06 2.06-.94-2.06-.94L8.5 2.5l-.94 2.06-2.06.94zm10 10l.94 2.06.94-2.06 2.06-.94-2.06-.94-.94-2.06-.94 2.06-2.06.94z\"/><path d=\"M17.41 7.96l-1.37-1.37c-.4-.4-.92-.59-1.43-.59-.52 0-1.04.2-1.43.59L10.3 9.45l-7.72 7.72c-.78.78-.78 2.05 0 2.83L4 21.41c.39.39.9.59 1.41.59.51 0 1.02-.2 1.41-.59l7.78-7.78 2.81-2.81c.8-.78.8-2.07 0-2.86zM5.41 20L4 18.59l7.72-7.72 1.47 1.35L5.41 20z\"/>\n",
              "  </svg>\n",
              "      </button>\n",
              "      \n",
              "  <style>\n",
              "    .colab-df-container {\n",
              "      display:flex;\n",
              "      flex-wrap:wrap;\n",
              "      gap: 12px;\n",
              "    }\n",
              "\n",
              "    .colab-df-convert {\n",
              "      background-color: #E8F0FE;\n",
              "      border: none;\n",
              "      border-radius: 50%;\n",
              "      cursor: pointer;\n",
              "      display: none;\n",
              "      fill: #1967D2;\n",
              "      height: 32px;\n",
              "      padding: 0 0 0 0;\n",
              "      width: 32px;\n",
              "    }\n",
              "\n",
              "    .colab-df-convert:hover {\n",
              "      background-color: #E2EBFA;\n",
              "      box-shadow: 0px 1px 2px rgba(60, 64, 67, 0.3), 0px 1px 3px 1px rgba(60, 64, 67, 0.15);\n",
              "      fill: #174EA6;\n",
              "    }\n",
              "\n",
              "    [theme=dark] .colab-df-convert {\n",
              "      background-color: #3B4455;\n",
              "      fill: #D2E3FC;\n",
              "    }\n",
              "\n",
              "    [theme=dark] .colab-df-convert:hover {\n",
              "      background-color: #434B5C;\n",
              "      box-shadow: 0px 1px 3px 1px rgba(0, 0, 0, 0.15);\n",
              "      filter: drop-shadow(0px 1px 2px rgba(0, 0, 0, 0.3));\n",
              "      fill: #FFFFFF;\n",
              "    }\n",
              "  </style>\n",
              "\n",
              "      <script>\n",
              "        const buttonEl =\n",
              "          document.querySelector('#df-298af9cf-9cac-4820-bd52-891d9a4d77dd button.colab-df-convert');\n",
              "        buttonEl.style.display =\n",
              "          google.colab.kernel.accessAllowed ? 'block' : 'none';\n",
              "\n",
              "        async function convertToInteractive(key) {\n",
              "          const element = document.querySelector('#df-298af9cf-9cac-4820-bd52-891d9a4d77dd');\n",
              "          const dataTable =\n",
              "            await google.colab.kernel.invokeFunction('convertToInteractive',\n",
              "                                                     [key], {});\n",
              "          if (!dataTable) return;\n",
              "\n",
              "          const docLinkHtml = 'Like what you see? Visit the ' +\n",
              "            '<a target=\"_blank\" href=https://colab.research.google.com/notebooks/data_table.ipynb>data table notebook</a>'\n",
              "            + ' to learn more about interactive tables.';\n",
              "          element.innerHTML = '';\n",
              "          dataTable['output_type'] = 'display_data';\n",
              "          await google.colab.output.renderOutput(dataTable, element);\n",
              "          const docLink = document.createElement('div');\n",
              "          docLink.innerHTML = docLinkHtml;\n",
              "          element.appendChild(docLink);\n",
              "        }\n",
              "      </script>\n",
              "    </div>\n",
              "  </div>\n",
              "  "
            ]
          },
          "metadata": {},
          "execution_count": 6
        }
      ]
    },
    {
      "cell_type": "code",
      "source": [
        "px.line(df,x='data',y='max_relu_data',width=700,height=400,title='ReLu Function')"
      ],
      "metadata": {
        "colab": {
          "base_uri": "https://localhost:8080/",
          "height": 417
        },
        "id": "U4XwcyjkXn5W",
        "outputId": "8bdfd7a1-549f-4381-f75f-ead1b1aa16be"
      },
      "execution_count": 7,
      "outputs": [
        {
          "output_type": "display_data",
          "data": {
            "text/html": [
              "<html>\n",
              "<head><meta charset=\"utf-8\" /></head>\n",
              "<body>\n",
              "    <div>            <script src=\"https://cdnjs.cloudflare.com/ajax/libs/mathjax/2.7.5/MathJax.js?config=TeX-AMS-MML_SVG\"></script><script type=\"text/javascript\">if (window.MathJax) {MathJax.Hub.Config({SVG: {font: \"STIX-Web\"}});}</script>                <script type=\"text/javascript\">window.PlotlyConfig = {MathJaxConfig: 'local'};</script>\n",
              "        <script src=\"https://cdn.plot.ly/plotly-2.8.3.min.js\"></script>                <div id=\"4b36c3ae-012d-4f82-96cd-761ed5b9a708\" class=\"plotly-graph-div\" style=\"height:400px; width:700px;\"></div>            <script type=\"text/javascript\">                                    window.PLOTLYENV=window.PLOTLYENV || {};                                    if (document.getElementById(\"4b36c3ae-012d-4f82-96cd-761ed5b9a708\")) {                    Plotly.newPlot(                        \"4b36c3ae-012d-4f82-96cd-761ed5b9a708\",                        [{\"hovertemplate\":\"data=%{x}<br>max_relu_data=%{y}<extra></extra>\",\"legendgroup\":\"\",\"line\":{\"color\":\"#636efa\",\"dash\":\"solid\"},\"marker\":{\"symbol\":\"circle\"},\"mode\":\"lines\",\"name\":\"\",\"orientation\":\"v\",\"showlegend\":false,\"x\":[-1.6421040601215573,-1.3687727591084677,-1.1942688530053414,-1.1839803197481027,-0.9291212060956882,-0.8349752807992086,-0.8135600917655734,-0.527151322996668,-0.43898398244014175,-0.3936419167776829,-0.33726631866121876,-0.3050689192217199,-0.28984422664103754,-0.2706826664656796,-0.2604225157954868,-0.2594638452474605,-0.25656803597316735,-0.17746004241540583,-0.15407203740567194,-0.05911210445948866,0.11872082631838429,0.14585246837385493,0.22003179860396194,0.2835390028483133,0.32659091362779025,0.4119573725490942,0.42458083689608056,0.4528530464677943,0.6286186723876884,0.6657538873116698,0.7505219101577106,0.776691278787996,0.7767999025237786,0.8991955757213047,0.9560211524767179,0.965679938260422,0.9894096669594803,1.0074124540244078,1.0267180315723627,1.0948118739507207,1.2366938657734183,1.3319636178259575,1.3604985687355768,1.700782251198892,1.7029739491350768,1.7151279502876582,1.7495496545631901,1.8597705330768644,2.221023958752454,2.4952665152451465],\"xaxis\":\"x\",\"y\":[0.0,0.0,0.0,0.0,0.0,0.0,0.0,0.0,0.0,0.0,0.0,0.0,0.0,0.0,0.0,0.0,0.0,0.0,0.0,0.0,0.11872082631838429,0.14585246837385493,0.22003179860396194,0.2835390028483133,0.32659091362779025,0.4119573725490942,0.42458083689608056,0.4528530464677943,0.6286186723876884,0.6657538873116698,0.7505219101577106,0.776691278787996,0.7767999025237786,0.8991955757213047,0.9560211524767179,0.965679938260422,0.9894096669594803,1.0074124540244078,1.0267180315723627,1.0948118739507207,1.2366938657734183,1.3319636178259575,1.3604985687355768,1.700782251198892,1.7029739491350768,1.7151279502876582,1.7495496545631901,1.8597705330768644,2.221023958752454,2.4952665152451465],\"yaxis\":\"y\",\"type\":\"scatter\"}],                        {\"template\":{\"data\":{\"bar\":[{\"error_x\":{\"color\":\"#2a3f5f\"},\"error_y\":{\"color\":\"#2a3f5f\"},\"marker\":{\"line\":{\"color\":\"#E5ECF6\",\"width\":0.5},\"pattern\":{\"fillmode\":\"overlay\",\"size\":10,\"solidity\":0.2}},\"type\":\"bar\"}],\"barpolar\":[{\"marker\":{\"line\":{\"color\":\"#E5ECF6\",\"width\":0.5},\"pattern\":{\"fillmode\":\"overlay\",\"size\":10,\"solidity\":0.2}},\"type\":\"barpolar\"}],\"carpet\":[{\"aaxis\":{\"endlinecolor\":\"#2a3f5f\",\"gridcolor\":\"white\",\"linecolor\":\"white\",\"minorgridcolor\":\"white\",\"startlinecolor\":\"#2a3f5f\"},\"baxis\":{\"endlinecolor\":\"#2a3f5f\",\"gridcolor\":\"white\",\"linecolor\":\"white\",\"minorgridcolor\":\"white\",\"startlinecolor\":\"#2a3f5f\"},\"type\":\"carpet\"}],\"choropleth\":[{\"colorbar\":{\"outlinewidth\":0,\"ticks\":\"\"},\"type\":\"choropleth\"}],\"contour\":[{\"colorbar\":{\"outlinewidth\":0,\"ticks\":\"\"},\"colorscale\":[[0.0,\"#0d0887\"],[0.1111111111111111,\"#46039f\"],[0.2222222222222222,\"#7201a8\"],[0.3333333333333333,\"#9c179e\"],[0.4444444444444444,\"#bd3786\"],[0.5555555555555556,\"#d8576b\"],[0.6666666666666666,\"#ed7953\"],[0.7777777777777778,\"#fb9f3a\"],[0.8888888888888888,\"#fdca26\"],[1.0,\"#f0f921\"]],\"type\":\"contour\"}],\"contourcarpet\":[{\"colorbar\":{\"outlinewidth\":0,\"ticks\":\"\"},\"type\":\"contourcarpet\"}],\"heatmap\":[{\"colorbar\":{\"outlinewidth\":0,\"ticks\":\"\"},\"colorscale\":[[0.0,\"#0d0887\"],[0.1111111111111111,\"#46039f\"],[0.2222222222222222,\"#7201a8\"],[0.3333333333333333,\"#9c179e\"],[0.4444444444444444,\"#bd3786\"],[0.5555555555555556,\"#d8576b\"],[0.6666666666666666,\"#ed7953\"],[0.7777777777777778,\"#fb9f3a\"],[0.8888888888888888,\"#fdca26\"],[1.0,\"#f0f921\"]],\"type\":\"heatmap\"}],\"heatmapgl\":[{\"colorbar\":{\"outlinewidth\":0,\"ticks\":\"\"},\"colorscale\":[[0.0,\"#0d0887\"],[0.1111111111111111,\"#46039f\"],[0.2222222222222222,\"#7201a8\"],[0.3333333333333333,\"#9c179e\"],[0.4444444444444444,\"#bd3786\"],[0.5555555555555556,\"#d8576b\"],[0.6666666666666666,\"#ed7953\"],[0.7777777777777778,\"#fb9f3a\"],[0.8888888888888888,\"#fdca26\"],[1.0,\"#f0f921\"]],\"type\":\"heatmapgl\"}],\"histogram\":[{\"marker\":{\"pattern\":{\"fillmode\":\"overlay\",\"size\":10,\"solidity\":0.2}},\"type\":\"histogram\"}],\"histogram2d\":[{\"colorbar\":{\"outlinewidth\":0,\"ticks\":\"\"},\"colorscale\":[[0.0,\"#0d0887\"],[0.1111111111111111,\"#46039f\"],[0.2222222222222222,\"#7201a8\"],[0.3333333333333333,\"#9c179e\"],[0.4444444444444444,\"#bd3786\"],[0.5555555555555556,\"#d8576b\"],[0.6666666666666666,\"#ed7953\"],[0.7777777777777778,\"#fb9f3a\"],[0.8888888888888888,\"#fdca26\"],[1.0,\"#f0f921\"]],\"type\":\"histogram2d\"}],\"histogram2dcontour\":[{\"colorbar\":{\"outlinewidth\":0,\"ticks\":\"\"},\"colorscale\":[[0.0,\"#0d0887\"],[0.1111111111111111,\"#46039f\"],[0.2222222222222222,\"#7201a8\"],[0.3333333333333333,\"#9c179e\"],[0.4444444444444444,\"#bd3786\"],[0.5555555555555556,\"#d8576b\"],[0.6666666666666666,\"#ed7953\"],[0.7777777777777778,\"#fb9f3a\"],[0.8888888888888888,\"#fdca26\"],[1.0,\"#f0f921\"]],\"type\":\"histogram2dcontour\"}],\"mesh3d\":[{\"colorbar\":{\"outlinewidth\":0,\"ticks\":\"\"},\"type\":\"mesh3d\"}],\"parcoords\":[{\"line\":{\"colorbar\":{\"outlinewidth\":0,\"ticks\":\"\"}},\"type\":\"parcoords\"}],\"pie\":[{\"automargin\":true,\"type\":\"pie\"}],\"scatter\":[{\"marker\":{\"colorbar\":{\"outlinewidth\":0,\"ticks\":\"\"}},\"type\":\"scatter\"}],\"scatter3d\":[{\"line\":{\"colorbar\":{\"outlinewidth\":0,\"ticks\":\"\"}},\"marker\":{\"colorbar\":{\"outlinewidth\":0,\"ticks\":\"\"}},\"type\":\"scatter3d\"}],\"scattercarpet\":[{\"marker\":{\"colorbar\":{\"outlinewidth\":0,\"ticks\":\"\"}},\"type\":\"scattercarpet\"}],\"scattergeo\":[{\"marker\":{\"colorbar\":{\"outlinewidth\":0,\"ticks\":\"\"}},\"type\":\"scattergeo\"}],\"scattergl\":[{\"marker\":{\"colorbar\":{\"outlinewidth\":0,\"ticks\":\"\"}},\"type\":\"scattergl\"}],\"scattermapbox\":[{\"marker\":{\"colorbar\":{\"outlinewidth\":0,\"ticks\":\"\"}},\"type\":\"scattermapbox\"}],\"scatterpolar\":[{\"marker\":{\"colorbar\":{\"outlinewidth\":0,\"ticks\":\"\"}},\"type\":\"scatterpolar\"}],\"scatterpolargl\":[{\"marker\":{\"colorbar\":{\"outlinewidth\":0,\"ticks\":\"\"}},\"type\":\"scatterpolargl\"}],\"scatterternary\":[{\"marker\":{\"colorbar\":{\"outlinewidth\":0,\"ticks\":\"\"}},\"type\":\"scatterternary\"}],\"surface\":[{\"colorbar\":{\"outlinewidth\":0,\"ticks\":\"\"},\"colorscale\":[[0.0,\"#0d0887\"],[0.1111111111111111,\"#46039f\"],[0.2222222222222222,\"#7201a8\"],[0.3333333333333333,\"#9c179e\"],[0.4444444444444444,\"#bd3786\"],[0.5555555555555556,\"#d8576b\"],[0.6666666666666666,\"#ed7953\"],[0.7777777777777778,\"#fb9f3a\"],[0.8888888888888888,\"#fdca26\"],[1.0,\"#f0f921\"]],\"type\":\"surface\"}],\"table\":[{\"cells\":{\"fill\":{\"color\":\"#EBF0F8\"},\"line\":{\"color\":\"white\"}},\"header\":{\"fill\":{\"color\":\"#C8D4E3\"},\"line\":{\"color\":\"white\"}},\"type\":\"table\"}]},\"layout\":{\"annotationdefaults\":{\"arrowcolor\":\"#2a3f5f\",\"arrowhead\":0,\"arrowwidth\":1},\"autotypenumbers\":\"strict\",\"coloraxis\":{\"colorbar\":{\"outlinewidth\":0,\"ticks\":\"\"}},\"colorscale\":{\"diverging\":[[0,\"#8e0152\"],[0.1,\"#c51b7d\"],[0.2,\"#de77ae\"],[0.3,\"#f1b6da\"],[0.4,\"#fde0ef\"],[0.5,\"#f7f7f7\"],[0.6,\"#e6f5d0\"],[0.7,\"#b8e186\"],[0.8,\"#7fbc41\"],[0.9,\"#4d9221\"],[1,\"#276419\"]],\"sequential\":[[0.0,\"#0d0887\"],[0.1111111111111111,\"#46039f\"],[0.2222222222222222,\"#7201a8\"],[0.3333333333333333,\"#9c179e\"],[0.4444444444444444,\"#bd3786\"],[0.5555555555555556,\"#d8576b\"],[0.6666666666666666,\"#ed7953\"],[0.7777777777777778,\"#fb9f3a\"],[0.8888888888888888,\"#fdca26\"],[1.0,\"#f0f921\"]],\"sequentialminus\":[[0.0,\"#0d0887\"],[0.1111111111111111,\"#46039f\"],[0.2222222222222222,\"#7201a8\"],[0.3333333333333333,\"#9c179e\"],[0.4444444444444444,\"#bd3786\"],[0.5555555555555556,\"#d8576b\"],[0.6666666666666666,\"#ed7953\"],[0.7777777777777778,\"#fb9f3a\"],[0.8888888888888888,\"#fdca26\"],[1.0,\"#f0f921\"]]},\"colorway\":[\"#636efa\",\"#EF553B\",\"#00cc96\",\"#ab63fa\",\"#FFA15A\",\"#19d3f3\",\"#FF6692\",\"#B6E880\",\"#FF97FF\",\"#FECB52\"],\"font\":{\"color\":\"#2a3f5f\"},\"geo\":{\"bgcolor\":\"white\",\"lakecolor\":\"white\",\"landcolor\":\"#E5ECF6\",\"showlakes\":true,\"showland\":true,\"subunitcolor\":\"white\"},\"hoverlabel\":{\"align\":\"left\"},\"hovermode\":\"closest\",\"mapbox\":{\"style\":\"light\"},\"paper_bgcolor\":\"white\",\"plot_bgcolor\":\"#E5ECF6\",\"polar\":{\"angularaxis\":{\"gridcolor\":\"white\",\"linecolor\":\"white\",\"ticks\":\"\"},\"bgcolor\":\"#E5ECF6\",\"radialaxis\":{\"gridcolor\":\"white\",\"linecolor\":\"white\",\"ticks\":\"\"}},\"scene\":{\"xaxis\":{\"backgroundcolor\":\"#E5ECF6\",\"gridcolor\":\"white\",\"gridwidth\":2,\"linecolor\":\"white\",\"showbackground\":true,\"ticks\":\"\",\"zerolinecolor\":\"white\"},\"yaxis\":{\"backgroundcolor\":\"#E5ECF6\",\"gridcolor\":\"white\",\"gridwidth\":2,\"linecolor\":\"white\",\"showbackground\":true,\"ticks\":\"\",\"zerolinecolor\":\"white\"},\"zaxis\":{\"backgroundcolor\":\"#E5ECF6\",\"gridcolor\":\"white\",\"gridwidth\":2,\"linecolor\":\"white\",\"showbackground\":true,\"ticks\":\"\",\"zerolinecolor\":\"white\"}},\"shapedefaults\":{\"line\":{\"color\":\"#2a3f5f\"}},\"ternary\":{\"aaxis\":{\"gridcolor\":\"white\",\"linecolor\":\"white\",\"ticks\":\"\"},\"baxis\":{\"gridcolor\":\"white\",\"linecolor\":\"white\",\"ticks\":\"\"},\"bgcolor\":\"#E5ECF6\",\"caxis\":{\"gridcolor\":\"white\",\"linecolor\":\"white\",\"ticks\":\"\"}},\"title\":{\"x\":0.05},\"xaxis\":{\"automargin\":true,\"gridcolor\":\"white\",\"linecolor\":\"white\",\"ticks\":\"\",\"title\":{\"standoff\":15},\"zerolinecolor\":\"white\",\"zerolinewidth\":2},\"yaxis\":{\"automargin\":true,\"gridcolor\":\"white\",\"linecolor\":\"white\",\"ticks\":\"\",\"title\":{\"standoff\":15},\"zerolinecolor\":\"white\",\"zerolinewidth\":2}}},\"xaxis\":{\"anchor\":\"y\",\"domain\":[0.0,1.0],\"title\":{\"text\":\"data\"}},\"yaxis\":{\"anchor\":\"x\",\"domain\":[0.0,1.0],\"title\":{\"text\":\"max_relu_data\"}},\"legend\":{\"tracegroupgap\":0},\"title\":{\"text\":\"ReLu Function\"},\"height\":400,\"width\":700},                        {\"responsive\": true}                    ).then(function(){\n",
              "                            \n",
              "var gd = document.getElementById('4b36c3ae-012d-4f82-96cd-761ed5b9a708');\n",
              "var x = new MutationObserver(function (mutations, observer) {{\n",
              "        var display = window.getComputedStyle(gd).display;\n",
              "        if (!display || display === 'none') {{\n",
              "            console.log([gd, 'removed!']);\n",
              "            Plotly.purge(gd);\n",
              "            observer.disconnect();\n",
              "        }}\n",
              "}});\n",
              "\n",
              "// Listen for the removal of the full notebook cells\n",
              "var notebookContainer = gd.closest('#notebook-container');\n",
              "if (notebookContainer) {{\n",
              "    x.observe(notebookContainer, {childList: true});\n",
              "}}\n",
              "\n",
              "// Listen for the clearing of the current output cell\n",
              "var outputEl = gd.closest('.output');\n",
              "if (outputEl) {{\n",
              "    x.observe(outputEl, {childList: true});\n",
              "}}\n",
              "\n",
              "                        })                };                            </script>        </div>\n",
              "</body>\n",
              "</html>"
            ]
          },
          "metadata": {}
        }
      ]
    },
    {
      "cell_type": "markdown",
      "source": [
        "#### <a name='a3'></a> 1.3 Funkcja Sigmoid\n",
        "####    $$f(x) = \\frac{1}{1 + e^{-x}}$$"
      ],
      "metadata": {
        "id": "K6oGzfJeaxT3"
      }
    },
    {
      "cell_type": "code",
      "source": [
        "def sigmoid(x):\n",
        "  return 1/(1+np.exp(-x))"
      ],
      "metadata": {
        "id": "Br8UBxJlXpFf"
      },
      "execution_count": 8,
      "outputs": []
    },
    {
      "cell_type": "code",
      "source": [
        "data = 3 * np.random.randn(50)\n",
        "data = sorted(data)\n",
        "data"
      ],
      "metadata": {
        "colab": {
          "base_uri": "https://localhost:8080/"
        },
        "id": "dYKVNF1VXpIj",
        "outputId": "3b4ad805-bd6a-497f-83e5-32cad8e5fb76"
      },
      "execution_count": 9,
      "outputs": [
        {
          "output_type": "execute_result",
          "data": {
            "text/plain": [
              "[-6.786321405133922,\n",
              " -6.186290816554129,\n",
              " -3.647309229744366,\n",
              " -3.2968860060259066,\n",
              " -3.1524799960927536,\n",
              " -3.1232300189751014,\n",
              " -3.0250712633541514,\n",
              " -2.930756166052646,\n",
              " -2.4552363585898367,\n",
              " -2.03704000987645,\n",
              " -1.8226652521822866,\n",
              " -1.3509936548100865,\n",
              " -1.2236323350686238,\n",
              " -0.8556889080865702,\n",
              " -0.8381225019696302,\n",
              " -0.7509166683887356,\n",
              " -0.46243988164117,\n",
              " -0.44694666963421903,\n",
              " -0.31533615420530947,\n",
              " -0.1557250823687132,\n",
              " 0.0793282769987062,\n",
              " 0.09982104422090242,\n",
              " 0.36602147999924983,\n",
              " 0.5118222243211346,\n",
              " 0.5901363677744726,\n",
              " 0.8172386086799727,\n",
              " 0.9809464389751215,\n",
              " 1.0535686907023885,\n",
              " 1.2087812775620874,\n",
              " 1.2669590152365762,\n",
              " 1.3738414084459925,\n",
              " 1.4438378715078088,\n",
              " 1.4947672322199996,\n",
              " 1.6140757348727952,\n",
              " 1.8378748781007017,\n",
              " 1.8715069397759625,\n",
              " 1.9116255679298526,\n",
              " 2.0500500000920354,\n",
              " 2.140000515958236,\n",
              " 2.8732092221991175,\n",
              " 3.1958572268487053,\n",
              " 3.4512458445159737,\n",
              " 3.6065221052925667,\n",
              " 3.6969047988851225,\n",
              " 3.7513036562482314,\n",
              " 4.019070070551655,\n",
              " 4.604195743708582,\n",
              " 5.258529880804533,\n",
              " 5.90508364344417,\n",
              " 8.663661374450655]"
            ]
          },
          "metadata": {},
          "execution_count": 9
        }
      ]
    },
    {
      "cell_type": "code",
      "source": [
        "sigmoid_data = [sigmoid(x) for x in sorted(data)]\n",
        "sigmoid_data"
      ],
      "metadata": {
        "colab": {
          "base_uri": "https://localhost:8080/"
        },
        "id": "5ZawyVGAbdu_",
        "outputId": "8eefb716-9a67-4a2f-9a65-722fdc44a5bd"
      },
      "execution_count": 10,
      "outputs": [
        {
          "output_type": "execute_result",
          "data": {
            "text/plain": [
              "[0.0011278412373267755,\n",
              " 0.002053219670383422,\n",
              " 0.02539922584448086,\n",
              " 0.03567817221083002,\n",
              " 0.04099367058394032,\n",
              " 0.042159144956597464,\n",
              " 0.04630600263183529,\n",
              " 0.0506539499640767,\n",
              " 0.07905646670607316,\n",
              " 0.11536848071408025,\n",
              " 0.13911437107081032,\n",
              " 0.20570796887780896,\n",
              " 0.2272978588465495,\n",
              " 0.2982408425397625,\n",
              " 0.3019303540631976,\n",
              " 0.32062159618672326,\n",
              " 0.3864071759605824,\n",
              " 0.3900869674626287,\n",
              " 0.4218127814020295,\n",
              " 0.4611472136733584,\n",
              " 0.5198216755631383,\n",
              " 0.5249345599960057,\n",
              " 0.5904972790704874,\n",
              " 0.6252335491413811,\n",
              " 0.6433964341823529,\n",
              " 0.6936498591817373,\n",
              " 0.7272959701505408,\n",
              " 0.741459596696374,\n",
              " 0.7700832391208234,\n",
              " 0.78022173706462,\n",
              " 0.798000081951613,\n",
              " 0.8090482643717227,\n",
              " 0.8167927301280327,\n",
              " 0.8339764799193441,\n",
              " 0.8626971790949789,\n",
              " 0.8666325466832304,\n",
              " 0.8712016618271655,\n",
              " 0.8859526708537948,\n",
              " 0.8947306590744231,\n",
              " 0.9465060714172294,\n",
              " 0.9606780793422568,\n",
              " 0.9692682726764704,\n",
              " 0.9735713407349,\n",
              " 0.9757999949150256,\n",
              " 0.9770518782113131,\n",
              " 0.9823475411247194,\n",
              " 0.9900894529184179,\n",
              " 0.9948239824973588,\n",
              " 0.9972818546548718,\n",
              " 0.9998272791948495]"
            ]
          },
          "metadata": {},
          "execution_count": 10
        }
      ]
    },
    {
      "cell_type": "code",
      "source": [
        "df = pd.DataFrame({'data': data, 'sigmoid_data': sigmoid_data})\n",
        "df.head()"
      ],
      "metadata": {
        "colab": {
          "base_uri": "https://localhost:8080/",
          "height": 206
        },
        "id": "yqnEzoHXbhYe",
        "outputId": "c5116438-b9ce-499e-fed8-e414fd226b7f"
      },
      "execution_count": 11,
      "outputs": [
        {
          "output_type": "execute_result",
          "data": {
            "text/plain": [
              "       data  sigmoid_data\n",
              "0 -6.786321      0.001128\n",
              "1 -6.186291      0.002053\n",
              "2 -3.647309      0.025399\n",
              "3 -3.296886      0.035678\n",
              "4 -3.152480      0.040994"
            ],
            "text/html": [
              "\n",
              "  <div id=\"df-54617253-820f-44cf-8eef-dec707dec551\">\n",
              "    <div class=\"colab-df-container\">\n",
              "      <div>\n",
              "<style scoped>\n",
              "    .dataframe tbody tr th:only-of-type {\n",
              "        vertical-align: middle;\n",
              "    }\n",
              "\n",
              "    .dataframe tbody tr th {\n",
              "        vertical-align: top;\n",
              "    }\n",
              "\n",
              "    .dataframe thead th {\n",
              "        text-align: right;\n",
              "    }\n",
              "</style>\n",
              "<table border=\"1\" class=\"dataframe\">\n",
              "  <thead>\n",
              "    <tr style=\"text-align: right;\">\n",
              "      <th></th>\n",
              "      <th>data</th>\n",
              "      <th>sigmoid_data</th>\n",
              "    </tr>\n",
              "  </thead>\n",
              "  <tbody>\n",
              "    <tr>\n",
              "      <th>0</th>\n",
              "      <td>-6.786321</td>\n",
              "      <td>0.001128</td>\n",
              "    </tr>\n",
              "    <tr>\n",
              "      <th>1</th>\n",
              "      <td>-6.186291</td>\n",
              "      <td>0.002053</td>\n",
              "    </tr>\n",
              "    <tr>\n",
              "      <th>2</th>\n",
              "      <td>-3.647309</td>\n",
              "      <td>0.025399</td>\n",
              "    </tr>\n",
              "    <tr>\n",
              "      <th>3</th>\n",
              "      <td>-3.296886</td>\n",
              "      <td>0.035678</td>\n",
              "    </tr>\n",
              "    <tr>\n",
              "      <th>4</th>\n",
              "      <td>-3.152480</td>\n",
              "      <td>0.040994</td>\n",
              "    </tr>\n",
              "  </tbody>\n",
              "</table>\n",
              "</div>\n",
              "      <button class=\"colab-df-convert\" onclick=\"convertToInteractive('df-54617253-820f-44cf-8eef-dec707dec551')\"\n",
              "              title=\"Convert this dataframe to an interactive table.\"\n",
              "              style=\"display:none;\">\n",
              "        \n",
              "  <svg xmlns=\"http://www.w3.org/2000/svg\" height=\"24px\"viewBox=\"0 0 24 24\"\n",
              "       width=\"24px\">\n",
              "    <path d=\"M0 0h24v24H0V0z\" fill=\"none\"/>\n",
              "    <path d=\"M18.56 5.44l.94 2.06.94-2.06 2.06-.94-2.06-.94-.94-2.06-.94 2.06-2.06.94zm-11 1L8.5 8.5l.94-2.06 2.06-.94-2.06-.94L8.5 2.5l-.94 2.06-2.06.94zm10 10l.94 2.06.94-2.06 2.06-.94-2.06-.94-.94-2.06-.94 2.06-2.06.94z\"/><path d=\"M17.41 7.96l-1.37-1.37c-.4-.4-.92-.59-1.43-.59-.52 0-1.04.2-1.43.59L10.3 9.45l-7.72 7.72c-.78.78-.78 2.05 0 2.83L4 21.41c.39.39.9.59 1.41.59.51 0 1.02-.2 1.41-.59l7.78-7.78 2.81-2.81c.8-.78.8-2.07 0-2.86zM5.41 20L4 18.59l7.72-7.72 1.47 1.35L5.41 20z\"/>\n",
              "  </svg>\n",
              "      </button>\n",
              "      \n",
              "  <style>\n",
              "    .colab-df-container {\n",
              "      display:flex;\n",
              "      flex-wrap:wrap;\n",
              "      gap: 12px;\n",
              "    }\n",
              "\n",
              "    .colab-df-convert {\n",
              "      background-color: #E8F0FE;\n",
              "      border: none;\n",
              "      border-radius: 50%;\n",
              "      cursor: pointer;\n",
              "      display: none;\n",
              "      fill: #1967D2;\n",
              "      height: 32px;\n",
              "      padding: 0 0 0 0;\n",
              "      width: 32px;\n",
              "    }\n",
              "\n",
              "    .colab-df-convert:hover {\n",
              "      background-color: #E2EBFA;\n",
              "      box-shadow: 0px 1px 2px rgba(60, 64, 67, 0.3), 0px 1px 3px 1px rgba(60, 64, 67, 0.15);\n",
              "      fill: #174EA6;\n",
              "    }\n",
              "\n",
              "    [theme=dark] .colab-df-convert {\n",
              "      background-color: #3B4455;\n",
              "      fill: #D2E3FC;\n",
              "    }\n",
              "\n",
              "    [theme=dark] .colab-df-convert:hover {\n",
              "      background-color: #434B5C;\n",
              "      box-shadow: 0px 1px 3px 1px rgba(0, 0, 0, 0.15);\n",
              "      filter: drop-shadow(0px 1px 2px rgba(0, 0, 0, 0.3));\n",
              "      fill: #FFFFFF;\n",
              "    }\n",
              "  </style>\n",
              "\n",
              "      <script>\n",
              "        const buttonEl =\n",
              "          document.querySelector('#df-54617253-820f-44cf-8eef-dec707dec551 button.colab-df-convert');\n",
              "        buttonEl.style.display =\n",
              "          google.colab.kernel.accessAllowed ? 'block' : 'none';\n",
              "\n",
              "        async function convertToInteractive(key) {\n",
              "          const element = document.querySelector('#df-54617253-820f-44cf-8eef-dec707dec551');\n",
              "          const dataTable =\n",
              "            await google.colab.kernel.invokeFunction('convertToInteractive',\n",
              "                                                     [key], {});\n",
              "          if (!dataTable) return;\n",
              "\n",
              "          const docLinkHtml = 'Like what you see? Visit the ' +\n",
              "            '<a target=\"_blank\" href=https://colab.research.google.com/notebooks/data_table.ipynb>data table notebook</a>'\n",
              "            + ' to learn more about interactive tables.';\n",
              "          element.innerHTML = '';\n",
              "          dataTable['output_type'] = 'display_data';\n",
              "          await google.colab.output.renderOutput(dataTable, element);\n",
              "          const docLink = document.createElement('div');\n",
              "          docLink.innerHTML = docLinkHtml;\n",
              "          element.appendChild(docLink);\n",
              "        }\n",
              "      </script>\n",
              "    </div>\n",
              "  </div>\n",
              "  "
            ]
          },
          "metadata": {},
          "execution_count": 11
        }
      ]
    },
    {
      "cell_type": "code",
      "source": [
        "px.line(df, x='data', y='sigmoid_data', width=700, height=400, title='Sigmoid Function')"
      ],
      "metadata": {
        "colab": {
          "base_uri": "https://localhost:8080/",
          "height": 417
        },
        "id": "iAQ-sbzxbjeD",
        "outputId": "d177ad32-3f0f-4b7e-ff54-c0cdad330d4d"
      },
      "execution_count": 12,
      "outputs": [
        {
          "output_type": "display_data",
          "data": {
            "text/html": [
              "<html>\n",
              "<head><meta charset=\"utf-8\" /></head>\n",
              "<body>\n",
              "    <div>            <script src=\"https://cdnjs.cloudflare.com/ajax/libs/mathjax/2.7.5/MathJax.js?config=TeX-AMS-MML_SVG\"></script><script type=\"text/javascript\">if (window.MathJax) {MathJax.Hub.Config({SVG: {font: \"STIX-Web\"}});}</script>                <script type=\"text/javascript\">window.PlotlyConfig = {MathJaxConfig: 'local'};</script>\n",
              "        <script src=\"https://cdn.plot.ly/plotly-2.8.3.min.js\"></script>                <div id=\"fa96d37c-1e41-4cbc-a22b-81ce9635cfb4\" class=\"plotly-graph-div\" style=\"height:400px; width:700px;\"></div>            <script type=\"text/javascript\">                                    window.PLOTLYENV=window.PLOTLYENV || {};                                    if (document.getElementById(\"fa96d37c-1e41-4cbc-a22b-81ce9635cfb4\")) {                    Plotly.newPlot(                        \"fa96d37c-1e41-4cbc-a22b-81ce9635cfb4\",                        [{\"hovertemplate\":\"data=%{x}<br>sigmoid_data=%{y}<extra></extra>\",\"legendgroup\":\"\",\"line\":{\"color\":\"#636efa\",\"dash\":\"solid\"},\"marker\":{\"symbol\":\"circle\"},\"mode\":\"lines\",\"name\":\"\",\"orientation\":\"v\",\"showlegend\":false,\"x\":[-6.786321405133922,-6.186290816554129,-3.647309229744366,-3.2968860060259066,-3.1524799960927536,-3.1232300189751014,-3.0250712633541514,-2.930756166052646,-2.4552363585898367,-2.03704000987645,-1.8226652521822866,-1.3509936548100865,-1.2236323350686238,-0.8556889080865702,-0.8381225019696302,-0.7509166683887356,-0.46243988164117,-0.44694666963421903,-0.31533615420530947,-0.1557250823687132,0.0793282769987062,0.09982104422090242,0.36602147999924983,0.5118222243211346,0.5901363677744726,0.8172386086799727,0.9809464389751215,1.0535686907023885,1.2087812775620874,1.2669590152365762,1.3738414084459925,1.4438378715078088,1.4947672322199996,1.6140757348727952,1.8378748781007017,1.8715069397759625,1.9116255679298526,2.0500500000920354,2.140000515958236,2.8732092221991175,3.1958572268487053,3.4512458445159737,3.6065221052925667,3.6969047988851225,3.7513036562482314,4.019070070551655,4.604195743708582,5.258529880804533,5.90508364344417,8.663661374450655],\"xaxis\":\"x\",\"y\":[0.0011278412373267755,0.002053219670383422,0.02539922584448086,0.03567817221083002,0.04099367058394032,0.042159144956597464,0.04630600263183529,0.0506539499640767,0.07905646670607316,0.11536848071408025,0.13911437107081032,0.20570796887780896,0.2272978588465495,0.2982408425397625,0.3019303540631976,0.32062159618672326,0.3864071759605824,0.3900869674626287,0.4218127814020295,0.4611472136733584,0.5198216755631383,0.5249345599960057,0.5904972790704874,0.6252335491413811,0.6433964341823529,0.6936498591817373,0.7272959701505408,0.741459596696374,0.7700832391208234,0.78022173706462,0.798000081951613,0.8090482643717227,0.8167927301280327,0.8339764799193441,0.8626971790949789,0.8666325466832304,0.8712016618271655,0.8859526708537948,0.8947306590744231,0.9465060714172294,0.9606780793422568,0.9692682726764704,0.9735713407349,0.9757999949150256,0.9770518782113131,0.9823475411247194,0.9900894529184179,0.9948239824973588,0.9972818546548718,0.9998272791948495],\"yaxis\":\"y\",\"type\":\"scatter\"}],                        {\"template\":{\"data\":{\"bar\":[{\"error_x\":{\"color\":\"#2a3f5f\"},\"error_y\":{\"color\":\"#2a3f5f\"},\"marker\":{\"line\":{\"color\":\"#E5ECF6\",\"width\":0.5},\"pattern\":{\"fillmode\":\"overlay\",\"size\":10,\"solidity\":0.2}},\"type\":\"bar\"}],\"barpolar\":[{\"marker\":{\"line\":{\"color\":\"#E5ECF6\",\"width\":0.5},\"pattern\":{\"fillmode\":\"overlay\",\"size\":10,\"solidity\":0.2}},\"type\":\"barpolar\"}],\"carpet\":[{\"aaxis\":{\"endlinecolor\":\"#2a3f5f\",\"gridcolor\":\"white\",\"linecolor\":\"white\",\"minorgridcolor\":\"white\",\"startlinecolor\":\"#2a3f5f\"},\"baxis\":{\"endlinecolor\":\"#2a3f5f\",\"gridcolor\":\"white\",\"linecolor\":\"white\",\"minorgridcolor\":\"white\",\"startlinecolor\":\"#2a3f5f\"},\"type\":\"carpet\"}],\"choropleth\":[{\"colorbar\":{\"outlinewidth\":0,\"ticks\":\"\"},\"type\":\"choropleth\"}],\"contour\":[{\"colorbar\":{\"outlinewidth\":0,\"ticks\":\"\"},\"colorscale\":[[0.0,\"#0d0887\"],[0.1111111111111111,\"#46039f\"],[0.2222222222222222,\"#7201a8\"],[0.3333333333333333,\"#9c179e\"],[0.4444444444444444,\"#bd3786\"],[0.5555555555555556,\"#d8576b\"],[0.6666666666666666,\"#ed7953\"],[0.7777777777777778,\"#fb9f3a\"],[0.8888888888888888,\"#fdca26\"],[1.0,\"#f0f921\"]],\"type\":\"contour\"}],\"contourcarpet\":[{\"colorbar\":{\"outlinewidth\":0,\"ticks\":\"\"},\"type\":\"contourcarpet\"}],\"heatmap\":[{\"colorbar\":{\"outlinewidth\":0,\"ticks\":\"\"},\"colorscale\":[[0.0,\"#0d0887\"],[0.1111111111111111,\"#46039f\"],[0.2222222222222222,\"#7201a8\"],[0.3333333333333333,\"#9c179e\"],[0.4444444444444444,\"#bd3786\"],[0.5555555555555556,\"#d8576b\"],[0.6666666666666666,\"#ed7953\"],[0.7777777777777778,\"#fb9f3a\"],[0.8888888888888888,\"#fdca26\"],[1.0,\"#f0f921\"]],\"type\":\"heatmap\"}],\"heatmapgl\":[{\"colorbar\":{\"outlinewidth\":0,\"ticks\":\"\"},\"colorscale\":[[0.0,\"#0d0887\"],[0.1111111111111111,\"#46039f\"],[0.2222222222222222,\"#7201a8\"],[0.3333333333333333,\"#9c179e\"],[0.4444444444444444,\"#bd3786\"],[0.5555555555555556,\"#d8576b\"],[0.6666666666666666,\"#ed7953\"],[0.7777777777777778,\"#fb9f3a\"],[0.8888888888888888,\"#fdca26\"],[1.0,\"#f0f921\"]],\"type\":\"heatmapgl\"}],\"histogram\":[{\"marker\":{\"pattern\":{\"fillmode\":\"overlay\",\"size\":10,\"solidity\":0.2}},\"type\":\"histogram\"}],\"histogram2d\":[{\"colorbar\":{\"outlinewidth\":0,\"ticks\":\"\"},\"colorscale\":[[0.0,\"#0d0887\"],[0.1111111111111111,\"#46039f\"],[0.2222222222222222,\"#7201a8\"],[0.3333333333333333,\"#9c179e\"],[0.4444444444444444,\"#bd3786\"],[0.5555555555555556,\"#d8576b\"],[0.6666666666666666,\"#ed7953\"],[0.7777777777777778,\"#fb9f3a\"],[0.8888888888888888,\"#fdca26\"],[1.0,\"#f0f921\"]],\"type\":\"histogram2d\"}],\"histogram2dcontour\":[{\"colorbar\":{\"outlinewidth\":0,\"ticks\":\"\"},\"colorscale\":[[0.0,\"#0d0887\"],[0.1111111111111111,\"#46039f\"],[0.2222222222222222,\"#7201a8\"],[0.3333333333333333,\"#9c179e\"],[0.4444444444444444,\"#bd3786\"],[0.5555555555555556,\"#d8576b\"],[0.6666666666666666,\"#ed7953\"],[0.7777777777777778,\"#fb9f3a\"],[0.8888888888888888,\"#fdca26\"],[1.0,\"#f0f921\"]],\"type\":\"histogram2dcontour\"}],\"mesh3d\":[{\"colorbar\":{\"outlinewidth\":0,\"ticks\":\"\"},\"type\":\"mesh3d\"}],\"parcoords\":[{\"line\":{\"colorbar\":{\"outlinewidth\":0,\"ticks\":\"\"}},\"type\":\"parcoords\"}],\"pie\":[{\"automargin\":true,\"type\":\"pie\"}],\"scatter\":[{\"marker\":{\"colorbar\":{\"outlinewidth\":0,\"ticks\":\"\"}},\"type\":\"scatter\"}],\"scatter3d\":[{\"line\":{\"colorbar\":{\"outlinewidth\":0,\"ticks\":\"\"}},\"marker\":{\"colorbar\":{\"outlinewidth\":0,\"ticks\":\"\"}},\"type\":\"scatter3d\"}],\"scattercarpet\":[{\"marker\":{\"colorbar\":{\"outlinewidth\":0,\"ticks\":\"\"}},\"type\":\"scattercarpet\"}],\"scattergeo\":[{\"marker\":{\"colorbar\":{\"outlinewidth\":0,\"ticks\":\"\"}},\"type\":\"scattergeo\"}],\"scattergl\":[{\"marker\":{\"colorbar\":{\"outlinewidth\":0,\"ticks\":\"\"}},\"type\":\"scattergl\"}],\"scattermapbox\":[{\"marker\":{\"colorbar\":{\"outlinewidth\":0,\"ticks\":\"\"}},\"type\":\"scattermapbox\"}],\"scatterpolar\":[{\"marker\":{\"colorbar\":{\"outlinewidth\":0,\"ticks\":\"\"}},\"type\":\"scatterpolar\"}],\"scatterpolargl\":[{\"marker\":{\"colorbar\":{\"outlinewidth\":0,\"ticks\":\"\"}},\"type\":\"scatterpolargl\"}],\"scatterternary\":[{\"marker\":{\"colorbar\":{\"outlinewidth\":0,\"ticks\":\"\"}},\"type\":\"scatterternary\"}],\"surface\":[{\"colorbar\":{\"outlinewidth\":0,\"ticks\":\"\"},\"colorscale\":[[0.0,\"#0d0887\"],[0.1111111111111111,\"#46039f\"],[0.2222222222222222,\"#7201a8\"],[0.3333333333333333,\"#9c179e\"],[0.4444444444444444,\"#bd3786\"],[0.5555555555555556,\"#d8576b\"],[0.6666666666666666,\"#ed7953\"],[0.7777777777777778,\"#fb9f3a\"],[0.8888888888888888,\"#fdca26\"],[1.0,\"#f0f921\"]],\"type\":\"surface\"}],\"table\":[{\"cells\":{\"fill\":{\"color\":\"#EBF0F8\"},\"line\":{\"color\":\"white\"}},\"header\":{\"fill\":{\"color\":\"#C8D4E3\"},\"line\":{\"color\":\"white\"}},\"type\":\"table\"}]},\"layout\":{\"annotationdefaults\":{\"arrowcolor\":\"#2a3f5f\",\"arrowhead\":0,\"arrowwidth\":1},\"autotypenumbers\":\"strict\",\"coloraxis\":{\"colorbar\":{\"outlinewidth\":0,\"ticks\":\"\"}},\"colorscale\":{\"diverging\":[[0,\"#8e0152\"],[0.1,\"#c51b7d\"],[0.2,\"#de77ae\"],[0.3,\"#f1b6da\"],[0.4,\"#fde0ef\"],[0.5,\"#f7f7f7\"],[0.6,\"#e6f5d0\"],[0.7,\"#b8e186\"],[0.8,\"#7fbc41\"],[0.9,\"#4d9221\"],[1,\"#276419\"]],\"sequential\":[[0.0,\"#0d0887\"],[0.1111111111111111,\"#46039f\"],[0.2222222222222222,\"#7201a8\"],[0.3333333333333333,\"#9c179e\"],[0.4444444444444444,\"#bd3786\"],[0.5555555555555556,\"#d8576b\"],[0.6666666666666666,\"#ed7953\"],[0.7777777777777778,\"#fb9f3a\"],[0.8888888888888888,\"#fdca26\"],[1.0,\"#f0f921\"]],\"sequentialminus\":[[0.0,\"#0d0887\"],[0.1111111111111111,\"#46039f\"],[0.2222222222222222,\"#7201a8\"],[0.3333333333333333,\"#9c179e\"],[0.4444444444444444,\"#bd3786\"],[0.5555555555555556,\"#d8576b\"],[0.6666666666666666,\"#ed7953\"],[0.7777777777777778,\"#fb9f3a\"],[0.8888888888888888,\"#fdca26\"],[1.0,\"#f0f921\"]]},\"colorway\":[\"#636efa\",\"#EF553B\",\"#00cc96\",\"#ab63fa\",\"#FFA15A\",\"#19d3f3\",\"#FF6692\",\"#B6E880\",\"#FF97FF\",\"#FECB52\"],\"font\":{\"color\":\"#2a3f5f\"},\"geo\":{\"bgcolor\":\"white\",\"lakecolor\":\"white\",\"landcolor\":\"#E5ECF6\",\"showlakes\":true,\"showland\":true,\"subunitcolor\":\"white\"},\"hoverlabel\":{\"align\":\"left\"},\"hovermode\":\"closest\",\"mapbox\":{\"style\":\"light\"},\"paper_bgcolor\":\"white\",\"plot_bgcolor\":\"#E5ECF6\",\"polar\":{\"angularaxis\":{\"gridcolor\":\"white\",\"linecolor\":\"white\",\"ticks\":\"\"},\"bgcolor\":\"#E5ECF6\",\"radialaxis\":{\"gridcolor\":\"white\",\"linecolor\":\"white\",\"ticks\":\"\"}},\"scene\":{\"xaxis\":{\"backgroundcolor\":\"#E5ECF6\",\"gridcolor\":\"white\",\"gridwidth\":2,\"linecolor\":\"white\",\"showbackground\":true,\"ticks\":\"\",\"zerolinecolor\":\"white\"},\"yaxis\":{\"backgroundcolor\":\"#E5ECF6\",\"gridcolor\":\"white\",\"gridwidth\":2,\"linecolor\":\"white\",\"showbackground\":true,\"ticks\":\"\",\"zerolinecolor\":\"white\"},\"zaxis\":{\"backgroundcolor\":\"#E5ECF6\",\"gridcolor\":\"white\",\"gridwidth\":2,\"linecolor\":\"white\",\"showbackground\":true,\"ticks\":\"\",\"zerolinecolor\":\"white\"}},\"shapedefaults\":{\"line\":{\"color\":\"#2a3f5f\"}},\"ternary\":{\"aaxis\":{\"gridcolor\":\"white\",\"linecolor\":\"white\",\"ticks\":\"\"},\"baxis\":{\"gridcolor\":\"white\",\"linecolor\":\"white\",\"ticks\":\"\"},\"bgcolor\":\"#E5ECF6\",\"caxis\":{\"gridcolor\":\"white\",\"linecolor\":\"white\",\"ticks\":\"\"}},\"title\":{\"x\":0.05},\"xaxis\":{\"automargin\":true,\"gridcolor\":\"white\",\"linecolor\":\"white\",\"ticks\":\"\",\"title\":{\"standoff\":15},\"zerolinecolor\":\"white\",\"zerolinewidth\":2},\"yaxis\":{\"automargin\":true,\"gridcolor\":\"white\",\"linecolor\":\"white\",\"ticks\":\"\",\"title\":{\"standoff\":15},\"zerolinecolor\":\"white\",\"zerolinewidth\":2}}},\"xaxis\":{\"anchor\":\"y\",\"domain\":[0.0,1.0],\"title\":{\"text\":\"data\"}},\"yaxis\":{\"anchor\":\"x\",\"domain\":[0.0,1.0],\"title\":{\"text\":\"sigmoid_data\"}},\"legend\":{\"tracegroupgap\":0},\"title\":{\"text\":\"Sigmoid Function\"},\"height\":400,\"width\":700},                        {\"responsive\": true}                    ).then(function(){\n",
              "                            \n",
              "var gd = document.getElementById('fa96d37c-1e41-4cbc-a22b-81ce9635cfb4');\n",
              "var x = new MutationObserver(function (mutations, observer) {{\n",
              "        var display = window.getComputedStyle(gd).display;\n",
              "        if (!display || display === 'none') {{\n",
              "            console.log([gd, 'removed!']);\n",
              "            Plotly.purge(gd);\n",
              "            observer.disconnect();\n",
              "        }}\n",
              "}});\n",
              "\n",
              "// Listen for the removal of the full notebook cells\n",
              "var notebookContainer = gd.closest('#notebook-container');\n",
              "if (notebookContainer) {{\n",
              "    x.observe(notebookContainer, {childList: true});\n",
              "}}\n",
              "\n",
              "// Listen for the clearing of the current output cell\n",
              "var outputEl = gd.closest('.output');\n",
              "if (outputEl) {{\n",
              "    x.observe(outputEl, {childList: true});\n",
              "}}\n",
              "\n",
              "                        })                };                            </script>        </div>\n",
              "</body>\n",
              "</html>"
            ]
          },
          "metadata": {}
        }
      ]
    },
    {
      "cell_type": "markdown",
      "source": [
        "#### <a name='a4'></a> 1.4 Tanh Function\n",
        "\n",
        "####   $$tanh (x) = \\frac{e^{x} - e^{-x}}{e^{x} + e^{-x}}$$"
      ],
      "metadata": {
        "id": "8dLWEx5xbnh1"
      }
    },
    {
      "cell_type": "code",
      "source": [
        "def tanh(x):\n",
        "    return (np.exp(x) - np.exp(-x)) / (np.exp(x) + np.exp(-x))"
      ],
      "metadata": {
        "id": "zNk1NgDebk97"
      },
      "execution_count": 13,
      "outputs": []
    },
    {
      "cell_type": "code",
      "source": [
        "data = 2 * np.random.randn(100)\n",
        "data = sorted(data)\n",
        "data"
      ],
      "metadata": {
        "colab": {
          "base_uri": "https://localhost:8080/"
        },
        "id": "78j3XiGeboK1",
        "outputId": "4282f895-916c-4092-da1b-92305ea7a58f"
      },
      "execution_count": 14,
      "outputs": [
        {
          "output_type": "execute_result",
          "data": {
            "text/plain": [
              "[-4.826030323435153,\n",
              " -4.489086645560824,\n",
              " -4.324909606387495,\n",
              " -3.4043160474897536,\n",
              " -3.3602869782786353,\n",
              " -3.31660554276881,\n",
              " -3.1641509803215757,\n",
              " -2.818986920777156,\n",
              " -2.459762915594336,\n",
              " -2.305062222274645,\n",
              " -2.177433321471092,\n",
              " -2.103930223497448,\n",
              " -2.01014240982872,\n",
              " -1.8287517836148588,\n",
              " -1.7864857981539732,\n",
              " -1.703834078830385,\n",
              " -1.6875368403795183,\n",
              " -1.66609434638398,\n",
              " -1.5282368879836044,\n",
              " -1.5147421276870707,\n",
              " -1.4933978544841853,\n",
              " -1.4633962575981927,\n",
              " -1.069591999763185,\n",
              " -1.0096021300369076,\n",
              " -0.90300683691585,\n",
              " -0.8429573382470683,\n",
              " -0.7916801887195111,\n",
              " -0.7763532516699163,\n",
              " -0.5956153572717687,\n",
              " -0.5297174007913097,\n",
              " -0.5164342802411568,\n",
              " -0.44246297119266814,\n",
              " -0.2917961030057393,\n",
              " -0.13634218258788347,\n",
              " -0.08424837192108968,\n",
              " -0.08300593925042789,\n",
              " -0.017874984326659706,\n",
              " 0.01539425178935909,\n",
              " 0.05460812496207728,\n",
              " 0.061145967468398996,\n",
              " 0.0635530972968718,\n",
              " 0.10134070588661698,\n",
              " 0.16800280471992535,\n",
              " 0.17237615403605822,\n",
              " 0.18417915420538516,\n",
              " 0.26950953465414296,\n",
              " 0.2991767245225355,\n",
              " 0.35217602915029045,\n",
              " 0.37215560932923714,\n",
              " 0.4559799836367479,\n",
              " 0.5705764712145677,\n",
              " 0.5830116306135694,\n",
              " 0.6172082579334442,\n",
              " 0.6525554008911507,\n",
              " 0.6586400334180014,\n",
              " 0.7132956112674542,\n",
              " 0.791060985538064,\n",
              " 0.8023888358629427,\n",
              " 0.8409140061038708,\n",
              " 0.8854365351544468,\n",
              " 1.0452812608647493,\n",
              " 1.1662349704136807,\n",
              " 1.1962627442366898,\n",
              " 1.3469742827093618,\n",
              " 1.3944694106037,\n",
              " 1.4091833994812117,\n",
              " 1.4271786176778432,\n",
              " 1.4929293886484096,\n",
              " 1.5117666943896908,\n",
              " 1.5764324476813671,\n",
              " 1.8478220201516802,\n",
              " 1.8856947447246184,\n",
              " 1.9177855277391858,\n",
              " 1.9380431132884262,\n",
              " 2.064026106444891,\n",
              " 2.071782172823791,\n",
              " 2.0738353627787083,\n",
              " 2.113019453031968,\n",
              " 2.1264387896348915,\n",
              " 2.146290950186443,\n",
              " 2.2045215912143825,\n",
              " 2.316307879165229,\n",
              " 2.3276340260488007,\n",
              " 2.4080956062086325,\n",
              " 2.5719747323804882,\n",
              " 2.741366444024994,\n",
              " 2.8162061057404935,\n",
              " 2.8363840136381047,\n",
              " 2.9146449118307096,\n",
              " 2.9501596924616793,\n",
              " 3.0637550642359894,\n",
              " 3.092430171292176,\n",
              " 3.257498927695277,\n",
              " 3.431218308146871,\n",
              " 3.507201784852464,\n",
              " 3.6292659888909187,\n",
              " 4.231258970794673,\n",
              " 4.3509235895831635,\n",
              " 4.417247788740217,\n",
              " 5.7676961210597435]"
            ]
          },
          "metadata": {},
          "execution_count": 14
        }
      ]
    },
    {
      "cell_type": "code",
      "source": [
        "tanh_data = [tanh(x) for x in sorted(data)]\n",
        "tanh_data"
      ],
      "metadata": {
        "colab": {
          "base_uri": "https://localhost:8080/"
        },
        "id": "GYYmKTKubtD6",
        "outputId": "1e13c130-ff72-43e7-e97c-d71e5b84f665"
      },
      "execution_count": 15,
      "outputs": [
        {
          "output_type": "execute_result",
          "data": {
            "text/plain": [
              "[-0.9998714223758713,\n",
              " -0.9997477657239985,\n",
              " -0.999649744326829,\n",
              " -0.9977940312133489,\n",
              " -0.9975912128019296,\n",
              " -0.9973715973392362,\n",
              " -0.9964362369328404,\n",
              " -0.9929051095809888,\n",
              " -0.9855006971277918,\n",
              " -0.9802949171314952,\n",
              " -0.9746374557254218,\n",
              " -0.9706798955380636,\n",
              " -0.9647371871367121,\n",
              " -0.9497038172677398,\n",
              " -0.945388452221167,\n",
              " -0.9358866531441432,\n",
              " -0.9338327573464176,\n",
              " -0.9310334295109062,\n",
              " -0.9101223929527444,\n",
              " -0.907776986246746,\n",
              " -0.903948047219133,\n",
              " -0.8983102113144883,\n",
              " -0.7893074569467609,\n",
              " -0.7655974056928816,\n",
              " -0.7177588003546626,\n",
              " -0.6873722884976582,\n",
              " -0.6593598060484306,\n",
              " -0.6506085826243275,\n",
              " -0.5339222085656488,\n",
              " -0.4851650406721605,\n",
              " -0.4749432960834285,\n",
              " -0.4156839128360886,\n",
              " -0.28378710671627844,\n",
              " -0.13550358727970246,\n",
              " -0.08404961050935575,\n",
              " -0.08281582659755488,\n",
              " -0.017873080794351154,\n",
              " 0.015393035846025607,\n",
              " 0.054553908294409745,\n",
              " 0.06106987648383891,\n",
              " 0.06346767173530558,\n",
              " 0.10099520418502235,\n",
              " 0.16643982519230963,\n",
              " 0.17068890305247789,\n",
              " 0.18212445676931574,\n",
              " 0.2631683975330786,\n",
              " 0.29055902206867346,\n",
              " 0.3383039444761985,\n",
              " 0.35587576154019557,\n",
              " 0.4268021303702321,\n",
              " 0.5157825154564425,\n",
              " 0.524850898903825,\n",
              " 0.5491812658345292,\n",
              " 0.5733877320962985,\n",
              " 0.5774576491724915,\n",
              " 0.6127392660930295,\n",
              " 0.6590096618539146,\n",
              " 0.6653701436688843,\n",
              " 0.6862928767163399,\n",
              " 0.7091324245596955,\n",
              " 0.7799650325398115,\n",
              " 0.8230614428545633,\n",
              " 0.8325111119462504,\n",
              " 0.8733372337432811,\n",
              " 0.8841503276670509,\n",
              " 0.8873205986064691,\n",
              " 0.891086954558182,\n",
              " 0.9038623388692406,\n",
              " 0.907252069438941,\n",
              " 0.9180429167219694,\n",
              " 0.9515404100716502,\n",
              " 0.9549958872842679,\n",
              " 0.9577344581957808,\n",
              " 0.9593785437587795,\n",
              " 0.968282630409675,\n",
              " 0.9687632130769216,\n",
              " 0.9688892289884332,\n",
              " 0.9712004689172784,\n",
              " 0.9719524345440383,\n",
              " 0.9730295031584767,\n",
              " 0.9759588755263839,\n",
              " 0.9807289407553109,\n",
              " 0.981156500650616,\n",
              " 0.9839349470889275,\n",
              " 0.988398488984986,\n",
              " 0.991718532053229,\n",
              " 0.992865681641983,\n",
              " 0.9931468938973818,\n",
              " 0.994136909899925,\n",
              " 0.9945378185242376,\n",
              " 0.9956454873374458,\n",
              " 0.9958876943880332,\n",
              " 0.9970422624325496,\n",
              " 0.9979094649686856,\n",
              " 0.9982039308851325,\n",
              " 0.9985927089876099,\n",
              " 0.999577610201961,\n",
              " 0.9996674985254578,\n",
              " 0.9997087981848828,\n",
              " 0.999980444516782]"
            ]
          },
          "metadata": {},
          "execution_count": 15
        }
      ]
    },
    {
      "cell_type": "code",
      "source": [
        "df = pd.DataFrame({'data': data, 'tanh_data': tanh_data})\n",
        "df.head()"
      ],
      "metadata": {
        "colab": {
          "base_uri": "https://localhost:8080/",
          "height": 206
        },
        "id": "g9lwQhe8bvZh",
        "outputId": "4c30c002-0595-455d-9ffd-16ce4c85b748"
      },
      "execution_count": 16,
      "outputs": [
        {
          "output_type": "execute_result",
          "data": {
            "text/plain": [
              "       data  tanh_data\n",
              "0 -4.826030  -0.999871\n",
              "1 -4.489087  -0.999748\n",
              "2 -4.324910  -0.999650\n",
              "3 -3.404316  -0.997794\n",
              "4 -3.360287  -0.997591"
            ],
            "text/html": [
              "\n",
              "  <div id=\"df-2cff97aa-1169-4e59-8ddc-b544cc9a8610\">\n",
              "    <div class=\"colab-df-container\">\n",
              "      <div>\n",
              "<style scoped>\n",
              "    .dataframe tbody tr th:only-of-type {\n",
              "        vertical-align: middle;\n",
              "    }\n",
              "\n",
              "    .dataframe tbody tr th {\n",
              "        vertical-align: top;\n",
              "    }\n",
              "\n",
              "    .dataframe thead th {\n",
              "        text-align: right;\n",
              "    }\n",
              "</style>\n",
              "<table border=\"1\" class=\"dataframe\">\n",
              "  <thead>\n",
              "    <tr style=\"text-align: right;\">\n",
              "      <th></th>\n",
              "      <th>data</th>\n",
              "      <th>tanh_data</th>\n",
              "    </tr>\n",
              "  </thead>\n",
              "  <tbody>\n",
              "    <tr>\n",
              "      <th>0</th>\n",
              "      <td>-4.826030</td>\n",
              "      <td>-0.999871</td>\n",
              "    </tr>\n",
              "    <tr>\n",
              "      <th>1</th>\n",
              "      <td>-4.489087</td>\n",
              "      <td>-0.999748</td>\n",
              "    </tr>\n",
              "    <tr>\n",
              "      <th>2</th>\n",
              "      <td>-4.324910</td>\n",
              "      <td>-0.999650</td>\n",
              "    </tr>\n",
              "    <tr>\n",
              "      <th>3</th>\n",
              "      <td>-3.404316</td>\n",
              "      <td>-0.997794</td>\n",
              "    </tr>\n",
              "    <tr>\n",
              "      <th>4</th>\n",
              "      <td>-3.360287</td>\n",
              "      <td>-0.997591</td>\n",
              "    </tr>\n",
              "  </tbody>\n",
              "</table>\n",
              "</div>\n",
              "      <button class=\"colab-df-convert\" onclick=\"convertToInteractive('df-2cff97aa-1169-4e59-8ddc-b544cc9a8610')\"\n",
              "              title=\"Convert this dataframe to an interactive table.\"\n",
              "              style=\"display:none;\">\n",
              "        \n",
              "  <svg xmlns=\"http://www.w3.org/2000/svg\" height=\"24px\"viewBox=\"0 0 24 24\"\n",
              "       width=\"24px\">\n",
              "    <path d=\"M0 0h24v24H0V0z\" fill=\"none\"/>\n",
              "    <path d=\"M18.56 5.44l.94 2.06.94-2.06 2.06-.94-2.06-.94-.94-2.06-.94 2.06-2.06.94zm-11 1L8.5 8.5l.94-2.06 2.06-.94-2.06-.94L8.5 2.5l-.94 2.06-2.06.94zm10 10l.94 2.06.94-2.06 2.06-.94-2.06-.94-.94-2.06-.94 2.06-2.06.94z\"/><path d=\"M17.41 7.96l-1.37-1.37c-.4-.4-.92-.59-1.43-.59-.52 0-1.04.2-1.43.59L10.3 9.45l-7.72 7.72c-.78.78-.78 2.05 0 2.83L4 21.41c.39.39.9.59 1.41.59.51 0 1.02-.2 1.41-.59l7.78-7.78 2.81-2.81c.8-.78.8-2.07 0-2.86zM5.41 20L4 18.59l7.72-7.72 1.47 1.35L5.41 20z\"/>\n",
              "  </svg>\n",
              "      </button>\n",
              "      \n",
              "  <style>\n",
              "    .colab-df-container {\n",
              "      display:flex;\n",
              "      flex-wrap:wrap;\n",
              "      gap: 12px;\n",
              "    }\n",
              "\n",
              "    .colab-df-convert {\n",
              "      background-color: #E8F0FE;\n",
              "      border: none;\n",
              "      border-radius: 50%;\n",
              "      cursor: pointer;\n",
              "      display: none;\n",
              "      fill: #1967D2;\n",
              "      height: 32px;\n",
              "      padding: 0 0 0 0;\n",
              "      width: 32px;\n",
              "    }\n",
              "\n",
              "    .colab-df-convert:hover {\n",
              "      background-color: #E2EBFA;\n",
              "      box-shadow: 0px 1px 2px rgba(60, 64, 67, 0.3), 0px 1px 3px 1px rgba(60, 64, 67, 0.15);\n",
              "      fill: #174EA6;\n",
              "    }\n",
              "\n",
              "    [theme=dark] .colab-df-convert {\n",
              "      background-color: #3B4455;\n",
              "      fill: #D2E3FC;\n",
              "    }\n",
              "\n",
              "    [theme=dark] .colab-df-convert:hover {\n",
              "      background-color: #434B5C;\n",
              "      box-shadow: 0px 1px 3px 1px rgba(0, 0, 0, 0.15);\n",
              "      filter: drop-shadow(0px 1px 2px rgba(0, 0, 0, 0.3));\n",
              "      fill: #FFFFFF;\n",
              "    }\n",
              "  </style>\n",
              "\n",
              "      <script>\n",
              "        const buttonEl =\n",
              "          document.querySelector('#df-2cff97aa-1169-4e59-8ddc-b544cc9a8610 button.colab-df-convert');\n",
              "        buttonEl.style.display =\n",
              "          google.colab.kernel.accessAllowed ? 'block' : 'none';\n",
              "\n",
              "        async function convertToInteractive(key) {\n",
              "          const element = document.querySelector('#df-2cff97aa-1169-4e59-8ddc-b544cc9a8610');\n",
              "          const dataTable =\n",
              "            await google.colab.kernel.invokeFunction('convertToInteractive',\n",
              "                                                     [key], {});\n",
              "          if (!dataTable) return;\n",
              "\n",
              "          const docLinkHtml = 'Like what you see? Visit the ' +\n",
              "            '<a target=\"_blank\" href=https://colab.research.google.com/notebooks/data_table.ipynb>data table notebook</a>'\n",
              "            + ' to learn more about interactive tables.';\n",
              "          element.innerHTML = '';\n",
              "          dataTable['output_type'] = 'display_data';\n",
              "          await google.colab.output.renderOutput(dataTable, element);\n",
              "          const docLink = document.createElement('div');\n",
              "          docLink.innerHTML = docLinkHtml;\n",
              "          element.appendChild(docLink);\n",
              "        }\n",
              "      </script>\n",
              "    </div>\n",
              "  </div>\n",
              "  "
            ]
          },
          "metadata": {},
          "execution_count": 16
        }
      ]
    },
    {
      "cell_type": "code",
      "source": [
        "px.line(df, x='data', y='tanh_data', width=700, height=400, title='Tanh Function')"
      ],
      "metadata": {
        "colab": {
          "base_uri": "https://localhost:8080/",
          "height": 417
        },
        "id": "x9BYJEtDbxmU",
        "outputId": "48287474-4130-4889-e499-6c4f6b57d1ae"
      },
      "execution_count": 17,
      "outputs": [
        {
          "output_type": "display_data",
          "data": {
            "text/html": [
              "<html>\n",
              "<head><meta charset=\"utf-8\" /></head>\n",
              "<body>\n",
              "    <div>            <script src=\"https://cdnjs.cloudflare.com/ajax/libs/mathjax/2.7.5/MathJax.js?config=TeX-AMS-MML_SVG\"></script><script type=\"text/javascript\">if (window.MathJax) {MathJax.Hub.Config({SVG: {font: \"STIX-Web\"}});}</script>                <script type=\"text/javascript\">window.PlotlyConfig = {MathJaxConfig: 'local'};</script>\n",
              "        <script src=\"https://cdn.plot.ly/plotly-2.8.3.min.js\"></script>                <div id=\"5d0245d8-3e9b-4f94-99ff-f9cb0be2b5ce\" class=\"plotly-graph-div\" style=\"height:400px; width:700px;\"></div>            <script type=\"text/javascript\">                                    window.PLOTLYENV=window.PLOTLYENV || {};                                    if (document.getElementById(\"5d0245d8-3e9b-4f94-99ff-f9cb0be2b5ce\")) {                    Plotly.newPlot(                        \"5d0245d8-3e9b-4f94-99ff-f9cb0be2b5ce\",                        [{\"hovertemplate\":\"data=%{x}<br>tanh_data=%{y}<extra></extra>\",\"legendgroup\":\"\",\"line\":{\"color\":\"#636efa\",\"dash\":\"solid\"},\"marker\":{\"symbol\":\"circle\"},\"mode\":\"lines\",\"name\":\"\",\"orientation\":\"v\",\"showlegend\":false,\"x\":[-4.826030323435153,-4.489086645560824,-4.324909606387495,-3.4043160474897536,-3.3602869782786353,-3.31660554276881,-3.1641509803215757,-2.818986920777156,-2.459762915594336,-2.305062222274645,-2.177433321471092,-2.103930223497448,-2.01014240982872,-1.8287517836148588,-1.7864857981539732,-1.703834078830385,-1.6875368403795183,-1.66609434638398,-1.5282368879836044,-1.5147421276870707,-1.4933978544841853,-1.4633962575981927,-1.069591999763185,-1.0096021300369076,-0.90300683691585,-0.8429573382470683,-0.7916801887195111,-0.7763532516699163,-0.5956153572717687,-0.5297174007913097,-0.5164342802411568,-0.44246297119266814,-0.2917961030057393,-0.13634218258788347,-0.08424837192108968,-0.08300593925042789,-0.017874984326659706,0.01539425178935909,0.05460812496207728,0.061145967468398996,0.0635530972968718,0.10134070588661698,0.16800280471992535,0.17237615403605822,0.18417915420538516,0.26950953465414296,0.2991767245225355,0.35217602915029045,0.37215560932923714,0.4559799836367479,0.5705764712145677,0.5830116306135694,0.6172082579334442,0.6525554008911507,0.6586400334180014,0.7132956112674542,0.791060985538064,0.8023888358629427,0.8409140061038708,0.8854365351544468,1.0452812608647493,1.1662349704136807,1.1962627442366898,1.3469742827093618,1.3944694106037,1.4091833994812117,1.4271786176778432,1.4929293886484096,1.5117666943896908,1.5764324476813671,1.8478220201516802,1.8856947447246184,1.9177855277391858,1.9380431132884262,2.064026106444891,2.071782172823791,2.0738353627787083,2.113019453031968,2.1264387896348915,2.146290950186443,2.2045215912143825,2.316307879165229,2.3276340260488007,2.4080956062086325,2.5719747323804882,2.741366444024994,2.8162061057404935,2.8363840136381047,2.9146449118307096,2.9501596924616793,3.0637550642359894,3.092430171292176,3.257498927695277,3.431218308146871,3.507201784852464,3.6292659888909187,4.231258970794673,4.3509235895831635,4.417247788740217,5.7676961210597435],\"xaxis\":\"x\",\"y\":[-0.9998714223758713,-0.9997477657239985,-0.999649744326829,-0.9977940312133489,-0.9975912128019296,-0.9973715973392362,-0.9964362369328404,-0.9929051095809888,-0.9855006971277918,-0.9802949171314952,-0.9746374557254218,-0.9706798955380636,-0.9647371871367121,-0.9497038172677398,-0.945388452221167,-0.9358866531441432,-0.9338327573464176,-0.9310334295109062,-0.9101223929527444,-0.907776986246746,-0.903948047219133,-0.8983102113144883,-0.7893074569467609,-0.7655974056928816,-0.7177588003546626,-0.6873722884976582,-0.6593598060484306,-0.6506085826243275,-0.5339222085656488,-0.4851650406721605,-0.4749432960834285,-0.4156839128360886,-0.28378710671627844,-0.13550358727970246,-0.08404961050935575,-0.08281582659755488,-0.017873080794351154,0.015393035846025607,0.054553908294409745,0.06106987648383891,0.06346767173530558,0.10099520418502235,0.16643982519230963,0.17068890305247789,0.18212445676931574,0.2631683975330786,0.29055902206867346,0.3383039444761985,0.35587576154019557,0.4268021303702321,0.5157825154564425,0.524850898903825,0.5491812658345292,0.5733877320962985,0.5774576491724915,0.6127392660930295,0.6590096618539146,0.6653701436688843,0.6862928767163399,0.7091324245596955,0.7799650325398115,0.8230614428545633,0.8325111119462504,0.8733372337432811,0.8841503276670509,0.8873205986064691,0.891086954558182,0.9038623388692406,0.907252069438941,0.9180429167219694,0.9515404100716502,0.9549958872842679,0.9577344581957808,0.9593785437587795,0.968282630409675,0.9687632130769216,0.9688892289884332,0.9712004689172784,0.9719524345440383,0.9730295031584767,0.9759588755263839,0.9807289407553109,0.981156500650616,0.9839349470889275,0.988398488984986,0.991718532053229,0.992865681641983,0.9931468938973818,0.994136909899925,0.9945378185242376,0.9956454873374458,0.9958876943880332,0.9970422624325496,0.9979094649686856,0.9982039308851325,0.9985927089876099,0.999577610201961,0.9996674985254578,0.9997087981848828,0.999980444516782],\"yaxis\":\"y\",\"type\":\"scatter\"}],                        {\"template\":{\"data\":{\"bar\":[{\"error_x\":{\"color\":\"#2a3f5f\"},\"error_y\":{\"color\":\"#2a3f5f\"},\"marker\":{\"line\":{\"color\":\"#E5ECF6\",\"width\":0.5},\"pattern\":{\"fillmode\":\"overlay\",\"size\":10,\"solidity\":0.2}},\"type\":\"bar\"}],\"barpolar\":[{\"marker\":{\"line\":{\"color\":\"#E5ECF6\",\"width\":0.5},\"pattern\":{\"fillmode\":\"overlay\",\"size\":10,\"solidity\":0.2}},\"type\":\"barpolar\"}],\"carpet\":[{\"aaxis\":{\"endlinecolor\":\"#2a3f5f\",\"gridcolor\":\"white\",\"linecolor\":\"white\",\"minorgridcolor\":\"white\",\"startlinecolor\":\"#2a3f5f\"},\"baxis\":{\"endlinecolor\":\"#2a3f5f\",\"gridcolor\":\"white\",\"linecolor\":\"white\",\"minorgridcolor\":\"white\",\"startlinecolor\":\"#2a3f5f\"},\"type\":\"carpet\"}],\"choropleth\":[{\"colorbar\":{\"outlinewidth\":0,\"ticks\":\"\"},\"type\":\"choropleth\"}],\"contour\":[{\"colorbar\":{\"outlinewidth\":0,\"ticks\":\"\"},\"colorscale\":[[0.0,\"#0d0887\"],[0.1111111111111111,\"#46039f\"],[0.2222222222222222,\"#7201a8\"],[0.3333333333333333,\"#9c179e\"],[0.4444444444444444,\"#bd3786\"],[0.5555555555555556,\"#d8576b\"],[0.6666666666666666,\"#ed7953\"],[0.7777777777777778,\"#fb9f3a\"],[0.8888888888888888,\"#fdca26\"],[1.0,\"#f0f921\"]],\"type\":\"contour\"}],\"contourcarpet\":[{\"colorbar\":{\"outlinewidth\":0,\"ticks\":\"\"},\"type\":\"contourcarpet\"}],\"heatmap\":[{\"colorbar\":{\"outlinewidth\":0,\"ticks\":\"\"},\"colorscale\":[[0.0,\"#0d0887\"],[0.1111111111111111,\"#46039f\"],[0.2222222222222222,\"#7201a8\"],[0.3333333333333333,\"#9c179e\"],[0.4444444444444444,\"#bd3786\"],[0.5555555555555556,\"#d8576b\"],[0.6666666666666666,\"#ed7953\"],[0.7777777777777778,\"#fb9f3a\"],[0.8888888888888888,\"#fdca26\"],[1.0,\"#f0f921\"]],\"type\":\"heatmap\"}],\"heatmapgl\":[{\"colorbar\":{\"outlinewidth\":0,\"ticks\":\"\"},\"colorscale\":[[0.0,\"#0d0887\"],[0.1111111111111111,\"#46039f\"],[0.2222222222222222,\"#7201a8\"],[0.3333333333333333,\"#9c179e\"],[0.4444444444444444,\"#bd3786\"],[0.5555555555555556,\"#d8576b\"],[0.6666666666666666,\"#ed7953\"],[0.7777777777777778,\"#fb9f3a\"],[0.8888888888888888,\"#fdca26\"],[1.0,\"#f0f921\"]],\"type\":\"heatmapgl\"}],\"histogram\":[{\"marker\":{\"pattern\":{\"fillmode\":\"overlay\",\"size\":10,\"solidity\":0.2}},\"type\":\"histogram\"}],\"histogram2d\":[{\"colorbar\":{\"outlinewidth\":0,\"ticks\":\"\"},\"colorscale\":[[0.0,\"#0d0887\"],[0.1111111111111111,\"#46039f\"],[0.2222222222222222,\"#7201a8\"],[0.3333333333333333,\"#9c179e\"],[0.4444444444444444,\"#bd3786\"],[0.5555555555555556,\"#d8576b\"],[0.6666666666666666,\"#ed7953\"],[0.7777777777777778,\"#fb9f3a\"],[0.8888888888888888,\"#fdca26\"],[1.0,\"#f0f921\"]],\"type\":\"histogram2d\"}],\"histogram2dcontour\":[{\"colorbar\":{\"outlinewidth\":0,\"ticks\":\"\"},\"colorscale\":[[0.0,\"#0d0887\"],[0.1111111111111111,\"#46039f\"],[0.2222222222222222,\"#7201a8\"],[0.3333333333333333,\"#9c179e\"],[0.4444444444444444,\"#bd3786\"],[0.5555555555555556,\"#d8576b\"],[0.6666666666666666,\"#ed7953\"],[0.7777777777777778,\"#fb9f3a\"],[0.8888888888888888,\"#fdca26\"],[1.0,\"#f0f921\"]],\"type\":\"histogram2dcontour\"}],\"mesh3d\":[{\"colorbar\":{\"outlinewidth\":0,\"ticks\":\"\"},\"type\":\"mesh3d\"}],\"parcoords\":[{\"line\":{\"colorbar\":{\"outlinewidth\":0,\"ticks\":\"\"}},\"type\":\"parcoords\"}],\"pie\":[{\"automargin\":true,\"type\":\"pie\"}],\"scatter\":[{\"marker\":{\"colorbar\":{\"outlinewidth\":0,\"ticks\":\"\"}},\"type\":\"scatter\"}],\"scatter3d\":[{\"line\":{\"colorbar\":{\"outlinewidth\":0,\"ticks\":\"\"}},\"marker\":{\"colorbar\":{\"outlinewidth\":0,\"ticks\":\"\"}},\"type\":\"scatter3d\"}],\"scattercarpet\":[{\"marker\":{\"colorbar\":{\"outlinewidth\":0,\"ticks\":\"\"}},\"type\":\"scattercarpet\"}],\"scattergeo\":[{\"marker\":{\"colorbar\":{\"outlinewidth\":0,\"ticks\":\"\"}},\"type\":\"scattergeo\"}],\"scattergl\":[{\"marker\":{\"colorbar\":{\"outlinewidth\":0,\"ticks\":\"\"}},\"type\":\"scattergl\"}],\"scattermapbox\":[{\"marker\":{\"colorbar\":{\"outlinewidth\":0,\"ticks\":\"\"}},\"type\":\"scattermapbox\"}],\"scatterpolar\":[{\"marker\":{\"colorbar\":{\"outlinewidth\":0,\"ticks\":\"\"}},\"type\":\"scatterpolar\"}],\"scatterpolargl\":[{\"marker\":{\"colorbar\":{\"outlinewidth\":0,\"ticks\":\"\"}},\"type\":\"scatterpolargl\"}],\"scatterternary\":[{\"marker\":{\"colorbar\":{\"outlinewidth\":0,\"ticks\":\"\"}},\"type\":\"scatterternary\"}],\"surface\":[{\"colorbar\":{\"outlinewidth\":0,\"ticks\":\"\"},\"colorscale\":[[0.0,\"#0d0887\"],[0.1111111111111111,\"#46039f\"],[0.2222222222222222,\"#7201a8\"],[0.3333333333333333,\"#9c179e\"],[0.4444444444444444,\"#bd3786\"],[0.5555555555555556,\"#d8576b\"],[0.6666666666666666,\"#ed7953\"],[0.7777777777777778,\"#fb9f3a\"],[0.8888888888888888,\"#fdca26\"],[1.0,\"#f0f921\"]],\"type\":\"surface\"}],\"table\":[{\"cells\":{\"fill\":{\"color\":\"#EBF0F8\"},\"line\":{\"color\":\"white\"}},\"header\":{\"fill\":{\"color\":\"#C8D4E3\"},\"line\":{\"color\":\"white\"}},\"type\":\"table\"}]},\"layout\":{\"annotationdefaults\":{\"arrowcolor\":\"#2a3f5f\",\"arrowhead\":0,\"arrowwidth\":1},\"autotypenumbers\":\"strict\",\"coloraxis\":{\"colorbar\":{\"outlinewidth\":0,\"ticks\":\"\"}},\"colorscale\":{\"diverging\":[[0,\"#8e0152\"],[0.1,\"#c51b7d\"],[0.2,\"#de77ae\"],[0.3,\"#f1b6da\"],[0.4,\"#fde0ef\"],[0.5,\"#f7f7f7\"],[0.6,\"#e6f5d0\"],[0.7,\"#b8e186\"],[0.8,\"#7fbc41\"],[0.9,\"#4d9221\"],[1,\"#276419\"]],\"sequential\":[[0.0,\"#0d0887\"],[0.1111111111111111,\"#46039f\"],[0.2222222222222222,\"#7201a8\"],[0.3333333333333333,\"#9c179e\"],[0.4444444444444444,\"#bd3786\"],[0.5555555555555556,\"#d8576b\"],[0.6666666666666666,\"#ed7953\"],[0.7777777777777778,\"#fb9f3a\"],[0.8888888888888888,\"#fdca26\"],[1.0,\"#f0f921\"]],\"sequentialminus\":[[0.0,\"#0d0887\"],[0.1111111111111111,\"#46039f\"],[0.2222222222222222,\"#7201a8\"],[0.3333333333333333,\"#9c179e\"],[0.4444444444444444,\"#bd3786\"],[0.5555555555555556,\"#d8576b\"],[0.6666666666666666,\"#ed7953\"],[0.7777777777777778,\"#fb9f3a\"],[0.8888888888888888,\"#fdca26\"],[1.0,\"#f0f921\"]]},\"colorway\":[\"#636efa\",\"#EF553B\",\"#00cc96\",\"#ab63fa\",\"#FFA15A\",\"#19d3f3\",\"#FF6692\",\"#B6E880\",\"#FF97FF\",\"#FECB52\"],\"font\":{\"color\":\"#2a3f5f\"},\"geo\":{\"bgcolor\":\"white\",\"lakecolor\":\"white\",\"landcolor\":\"#E5ECF6\",\"showlakes\":true,\"showland\":true,\"subunitcolor\":\"white\"},\"hoverlabel\":{\"align\":\"left\"},\"hovermode\":\"closest\",\"mapbox\":{\"style\":\"light\"},\"paper_bgcolor\":\"white\",\"plot_bgcolor\":\"#E5ECF6\",\"polar\":{\"angularaxis\":{\"gridcolor\":\"white\",\"linecolor\":\"white\",\"ticks\":\"\"},\"bgcolor\":\"#E5ECF6\",\"radialaxis\":{\"gridcolor\":\"white\",\"linecolor\":\"white\",\"ticks\":\"\"}},\"scene\":{\"xaxis\":{\"backgroundcolor\":\"#E5ECF6\",\"gridcolor\":\"white\",\"gridwidth\":2,\"linecolor\":\"white\",\"showbackground\":true,\"ticks\":\"\",\"zerolinecolor\":\"white\"},\"yaxis\":{\"backgroundcolor\":\"#E5ECF6\",\"gridcolor\":\"white\",\"gridwidth\":2,\"linecolor\":\"white\",\"showbackground\":true,\"ticks\":\"\",\"zerolinecolor\":\"white\"},\"zaxis\":{\"backgroundcolor\":\"#E5ECF6\",\"gridcolor\":\"white\",\"gridwidth\":2,\"linecolor\":\"white\",\"showbackground\":true,\"ticks\":\"\",\"zerolinecolor\":\"white\"}},\"shapedefaults\":{\"line\":{\"color\":\"#2a3f5f\"}},\"ternary\":{\"aaxis\":{\"gridcolor\":\"white\",\"linecolor\":\"white\",\"ticks\":\"\"},\"baxis\":{\"gridcolor\":\"white\",\"linecolor\":\"white\",\"ticks\":\"\"},\"bgcolor\":\"#E5ECF6\",\"caxis\":{\"gridcolor\":\"white\",\"linecolor\":\"white\",\"ticks\":\"\"}},\"title\":{\"x\":0.05},\"xaxis\":{\"automargin\":true,\"gridcolor\":\"white\",\"linecolor\":\"white\",\"ticks\":\"\",\"title\":{\"standoff\":15},\"zerolinecolor\":\"white\",\"zerolinewidth\":2},\"yaxis\":{\"automargin\":true,\"gridcolor\":\"white\",\"linecolor\":\"white\",\"ticks\":\"\",\"title\":{\"standoff\":15},\"zerolinecolor\":\"white\",\"zerolinewidth\":2}}},\"xaxis\":{\"anchor\":\"y\",\"domain\":[0.0,1.0],\"title\":{\"text\":\"data\"}},\"yaxis\":{\"anchor\":\"x\",\"domain\":[0.0,1.0],\"title\":{\"text\":\"tanh_data\"}},\"legend\":{\"tracegroupgap\":0},\"title\":{\"text\":\"Tanh Function\"},\"height\":400,\"width\":700},                        {\"responsive\": true}                    ).then(function(){\n",
              "                            \n",
              "var gd = document.getElementById('5d0245d8-3e9b-4f94-99ff-f9cb0be2b5ce');\n",
              "var x = new MutationObserver(function (mutations, observer) {{\n",
              "        var display = window.getComputedStyle(gd).display;\n",
              "        if (!display || display === 'none') {{\n",
              "            console.log([gd, 'removed!']);\n",
              "            Plotly.purge(gd);\n",
              "            observer.disconnect();\n",
              "        }}\n",
              "}});\n",
              "\n",
              "// Listen for the removal of the full notebook cells\n",
              "var notebookContainer = gd.closest('#notebook-container');\n",
              "if (notebookContainer) {{\n",
              "    x.observe(notebookContainer, {childList: true});\n",
              "}}\n",
              "\n",
              "// Listen for the clearing of the current output cell\n",
              "var outputEl = gd.closest('.output');\n",
              "if (outputEl) {{\n",
              "    x.observe(outputEl, {childList: true});\n",
              "}}\n",
              "\n",
              "                        })                };                            </script>        </div>\n",
              "</body>\n",
              "</html>"
            ]
          },
          "metadata": {}
        }
      ]
    },
    {
      "cell_type": "markdown",
      "source": [
        "#### <a name='a5'></a> 1.5 Softmax Function\n",
        "\n",
        "####   $$S(x_i)=\\frac{e^{x_{i}}}{\\sum_{j=1}^{N}e^{x_j}},\\ \\ dla\\ i = 1,...,N$$\n",
        "\n",
        "####   $$S(x_1)=\\frac{e^{x_{1}}}{\\sum_{j=1}^{N}e^{x_j}}$$"
      ],
      "metadata": {
        "id": "UcLyqotLb1FT"
      }
    },
    {
      "cell_type": "markdown",
      "source": [
        "Jest ona przydatna w przypadku problemu klasyfikacji wieloklasowej. "
      ],
      "metadata": {
        "id": "VUAu8FVllN8f"
      }
    },
    {
      "cell_type": "code",
      "source": [
        "def softmax(x):\n",
        "    e_x = np.exp(x)\n",
        "    denominator = np.sum(e_x, axis=1)\n",
        "    denominator = denominator[:, np.newaxis]\n",
        "    return e_x / denominator"
      ],
      "metadata": {
        "id": "sZ8pzHlqb4C0"
      },
      "execution_count": 18,
      "outputs": []
    },
    {
      "cell_type": "code",
      "source": [
        "data = np.random.randn(4, 5)\n",
        "data"
      ],
      "metadata": {
        "colab": {
          "base_uri": "https://localhost:8080/"
        },
        "id": "FBbg-kzhb4Hs",
        "outputId": "eb09034f-9b83-40a8-963d-d75aca3f7e92"
      },
      "execution_count": 19,
      "outputs": [
        {
          "output_type": "execute_result",
          "data": {
            "text/plain": [
              "array([[-1.544826,  0.235543,  1.278456, -1.279924, -0.248838],\n",
              "       [ 1.174866,  0.016594,  0.459064,  0.645711, -1.44544 ],\n",
              "       [-0.438272, -1.201953,  0.080526,  0.854507, -0.285091],\n",
              "       [-1.536362,  1.444288, -1.244652, -0.549834, -1.794019]])"
            ]
          },
          "metadata": {},
          "execution_count": 19
        }
      ]
    },
    {
      "cell_type": "code",
      "source": [
        "result = softmax(data)\n",
        "result"
      ],
      "metadata": {
        "colab": {
          "base_uri": "https://localhost:8080/"
        },
        "id": "MQPF0ZcVb8CY",
        "outputId": "aa629961-82e5-40de-998f-96cb4696d8dc"
      },
      "execution_count": 20,
      "outputs": [
        {
          "output_type": "execute_result",
          "data": {
            "text/plain": [
              "array([[0.034817, 0.206533, 0.586033, 0.045377, 0.127241],\n",
              "       [0.405727, 0.12741 , 0.198319, 0.239015, 0.029529],\n",
              "       [0.125717, 0.058578, 0.211205, 0.457973, 0.146527],\n",
              "       [0.039225, 0.772752, 0.052511, 0.105197, 0.030315]])"
            ]
          },
          "metadata": {},
          "execution_count": 20
        }
      ]
    },
    {
      "cell_type": "code",
      "source": [
        "result.sum(axis=1)"
      ],
      "metadata": {
        "colab": {
          "base_uri": "https://localhost:8080/"
        },
        "id": "YOFc_4a5b9t3",
        "outputId": "6313e40c-a4b3-4881-fc12-b5f1abddf963"
      },
      "execution_count": 21,
      "outputs": [
        {
          "output_type": "execute_result",
          "data": {
            "text/plain": [
              "array([1., 1., 1., 1.])"
            ]
          },
          "metadata": {},
          "execution_count": 21
        }
      ]
    },
    {
      "cell_type": "code",
      "source": [
        ""
      ],
      "metadata": {
        "id": "_8P6NBHib_V1"
      },
      "execution_count": null,
      "outputs": []
    }
  ]
}