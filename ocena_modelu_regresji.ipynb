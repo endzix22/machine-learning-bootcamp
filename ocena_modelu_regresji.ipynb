{
  "nbformat": 4,
  "nbformat_minor": 0,
  "metadata": {
    "colab": {
      "name": "ocena_modelu_regresji.ipynb",
      "provenance": [],
      "authorship_tag": "ABX9TyN198CzYWVlvb4EepcJaWqM",
      "include_colab_link": true
    },
    "kernelspec": {
      "name": "python3",
      "display_name": "Python 3"
    },
    "language_info": {
      "name": "python"
    }
  },
  "cells": [
    {
      "cell_type": "markdown",
      "metadata": {
        "id": "view-in-github",
        "colab_type": "text"
      },
      "source": [
        "<a href=\"https://colab.research.google.com/github/endzix22/machine-learning-bootcamp/blob/main/ocena_modelu_regresji.ipynb\" target=\"_parent\"><img src=\"https://colab.research.google.com/assets/colab-badge.svg\" alt=\"Open In Colab\"/></a>"
      ]
    },
    {
      "cell_type": "code",
      "execution_count": 1,
      "metadata": {
        "id": "MND3taM-hUKp"
      },
      "outputs": [],
      "source": [
        "import numpy as np \n",
        "import pandas as pd \n",
        "import plotly.express as px \n",
        "import plotly.graph_objects as go \n",
        "\n",
        "np.random.seed(42)"
      ]
    },
    {
      "cell_type": "code",
      "source": [
        "#generujemy dane \n",
        "y_true=100+20*np.random.randn(50)\n",
        "y_true"
      ],
      "metadata": {
        "colab": {
          "base_uri": "https://localhost:8080/"
        },
        "id": "5mgqsCoZon1D",
        "outputId": "2a39fae9-67ee-455b-e523-711dd2814a71"
      },
      "execution_count": 2,
      "outputs": [
        {
          "output_type": "execute_result",
          "data": {
            "text/plain": [
              "array([109.93428306,  97.23471398, 112.95377076, 130.46059713,\n",
              "        95.31693251,  95.31726086, 131.58425631, 115.34869458,\n",
              "        90.61051228, 110.85120087,  90.73164614,  90.68540493,\n",
              "       104.83924543,  61.73439511,  65.50164335,  88.75424942,\n",
              "        79.74337759, 106.28494665,  81.83951849,  71.75392597,\n",
              "       129.31297538,  95.48447399, 101.35056409,  71.50503628,\n",
              "        89.11234551, 102.21845179,  76.98012845, 107.51396037,\n",
              "        87.9872262 ,  94.166125  ,  87.96586776, 137.04556369,\n",
              "        99.73005551,  78.84578142, 116.45089824,  75.583127  ,\n",
              "       104.1772719 ,  60.80659752,  73.43627902, 103.93722472,\n",
              "       114.7693316 , 103.42736562,  97.68703435,  93.97792609,\n",
              "        70.42956019,  85.60311583,  90.78722458, 121.14244452,\n",
              "       106.87236579,  64.73919689])"
            ]
          },
          "metadata": {},
          "execution_count": 2
        }
      ]
    },
    {
      "cell_type": "code",
      "source": [
        "y_pred=y_true+10*np.random.randn(50)\n",
        "y_pred"
      ],
      "metadata": {
        "colab": {
          "base_uri": "https://localhost:8080/"
        },
        "id": "EipGMdFyon4j",
        "outputId": "8420a5a5-d5bb-4319-8655-80b57e778968"
      },
      "execution_count": 4,
      "outputs": [
        {
          "output_type": "execute_result",
          "data": {
            "text/plain": [
              "array([ 95.78057564,  93.02826075, 109.5266256 , 122.43782444,\n",
              "        93.70407539,  99.35776943, 150.44611532, 117.09447271,\n",
              "        93.18601619, 110.10674171,  71.54393399,  90.42026617,\n",
              "       105.44154753,  86.36681623,  63.5780337 ,  91.76972284,\n",
              "        79.3962599 ,  94.59816628,  93.26774663,  79.2732563 ,\n",
              "       137.22329485,  86.39059944, 115.3785072 ,  57.48652565,\n",
              "        94.98091645, 124.12300805,  67.0747652 , 101.85098307,\n",
              "        88.98373985,  89.13136846,  72.45923344, 137.73119344,\n",
              "        89.10701837,  83.58170573, 107.2566559 ,  91.08247105,\n",
              "        96.34473898,  57.58598236,  81.5714512 ,  91.62858155,\n",
              "       117.04393095, 116.49879317,  81.61220201,  95.82426467,\n",
              "        73.02838814,  93.42134455,  78.41771747, 107.93787839,\n",
              "       112.09178145,  67.70904363])"
            ]
          },
          "metadata": {},
          "execution_count": 4
        }
      ]
    },
    {
      "cell_type": "code",
      "source": [
        "results=pd.DataFrame({'y_true':y_true,'y_pred':y_pred})\n",
        "results.head()"
      ],
      "metadata": {
        "colab": {
          "base_uri": "https://localhost:8080/",
          "height": 206
        },
        "id": "4RA5gEihon7a",
        "outputId": "a62368ed-009b-47dc-f0fb-e3b0607d3347"
      },
      "execution_count": 5,
      "outputs": [
        {
          "output_type": "execute_result",
          "data": {
            "text/plain": [
              "       y_true      y_pred\n",
              "0  109.934283   95.780576\n",
              "1   97.234714   93.028261\n",
              "2  112.953771  109.526626\n",
              "3  130.460597  122.437824\n",
              "4   95.316933   93.704075"
            ],
            "text/html": [
              "\n",
              "  <div id=\"df-81fecb14-c069-4adb-a431-34a976a1c1ff\">\n",
              "    <div class=\"colab-df-container\">\n",
              "      <div>\n",
              "<style scoped>\n",
              "    .dataframe tbody tr th:only-of-type {\n",
              "        vertical-align: middle;\n",
              "    }\n",
              "\n",
              "    .dataframe tbody tr th {\n",
              "        vertical-align: top;\n",
              "    }\n",
              "\n",
              "    .dataframe thead th {\n",
              "        text-align: right;\n",
              "    }\n",
              "</style>\n",
              "<table border=\"1\" class=\"dataframe\">\n",
              "  <thead>\n",
              "    <tr style=\"text-align: right;\">\n",
              "      <th></th>\n",
              "      <th>y_true</th>\n",
              "      <th>y_pred</th>\n",
              "    </tr>\n",
              "  </thead>\n",
              "  <tbody>\n",
              "    <tr>\n",
              "      <th>0</th>\n",
              "      <td>109.934283</td>\n",
              "      <td>95.780576</td>\n",
              "    </tr>\n",
              "    <tr>\n",
              "      <th>1</th>\n",
              "      <td>97.234714</td>\n",
              "      <td>93.028261</td>\n",
              "    </tr>\n",
              "    <tr>\n",
              "      <th>2</th>\n",
              "      <td>112.953771</td>\n",
              "      <td>109.526626</td>\n",
              "    </tr>\n",
              "    <tr>\n",
              "      <th>3</th>\n",
              "      <td>130.460597</td>\n",
              "      <td>122.437824</td>\n",
              "    </tr>\n",
              "    <tr>\n",
              "      <th>4</th>\n",
              "      <td>95.316933</td>\n",
              "      <td>93.704075</td>\n",
              "    </tr>\n",
              "  </tbody>\n",
              "</table>\n",
              "</div>\n",
              "      <button class=\"colab-df-convert\" onclick=\"convertToInteractive('df-81fecb14-c069-4adb-a431-34a976a1c1ff')\"\n",
              "              title=\"Convert this dataframe to an interactive table.\"\n",
              "              style=\"display:none;\">\n",
              "        \n",
              "  <svg xmlns=\"http://www.w3.org/2000/svg\" height=\"24px\"viewBox=\"0 0 24 24\"\n",
              "       width=\"24px\">\n",
              "    <path d=\"M0 0h24v24H0V0z\" fill=\"none\"/>\n",
              "    <path d=\"M18.56 5.44l.94 2.06.94-2.06 2.06-.94-2.06-.94-.94-2.06-.94 2.06-2.06.94zm-11 1L8.5 8.5l.94-2.06 2.06-.94-2.06-.94L8.5 2.5l-.94 2.06-2.06.94zm10 10l.94 2.06.94-2.06 2.06-.94-2.06-.94-.94-2.06-.94 2.06-2.06.94z\"/><path d=\"M17.41 7.96l-1.37-1.37c-.4-.4-.92-.59-1.43-.59-.52 0-1.04.2-1.43.59L10.3 9.45l-7.72 7.72c-.78.78-.78 2.05 0 2.83L4 21.41c.39.39.9.59 1.41.59.51 0 1.02-.2 1.41-.59l7.78-7.78 2.81-2.81c.8-.78.8-2.07 0-2.86zM5.41 20L4 18.59l7.72-7.72 1.47 1.35L5.41 20z\"/>\n",
              "  </svg>\n",
              "      </button>\n",
              "      \n",
              "  <style>\n",
              "    .colab-df-container {\n",
              "      display:flex;\n",
              "      flex-wrap:wrap;\n",
              "      gap: 12px;\n",
              "    }\n",
              "\n",
              "    .colab-df-convert {\n",
              "      background-color: #E8F0FE;\n",
              "      border: none;\n",
              "      border-radius: 50%;\n",
              "      cursor: pointer;\n",
              "      display: none;\n",
              "      fill: #1967D2;\n",
              "      height: 32px;\n",
              "      padding: 0 0 0 0;\n",
              "      width: 32px;\n",
              "    }\n",
              "\n",
              "    .colab-df-convert:hover {\n",
              "      background-color: #E2EBFA;\n",
              "      box-shadow: 0px 1px 2px rgba(60, 64, 67, 0.3), 0px 1px 3px 1px rgba(60, 64, 67, 0.15);\n",
              "      fill: #174EA6;\n",
              "    }\n",
              "\n",
              "    [theme=dark] .colab-df-convert {\n",
              "      background-color: #3B4455;\n",
              "      fill: #D2E3FC;\n",
              "    }\n",
              "\n",
              "    [theme=dark] .colab-df-convert:hover {\n",
              "      background-color: #434B5C;\n",
              "      box-shadow: 0px 1px 3px 1px rgba(0, 0, 0, 0.15);\n",
              "      filter: drop-shadow(0px 1px 2px rgba(0, 0, 0, 0.3));\n",
              "      fill: #FFFFFF;\n",
              "    }\n",
              "  </style>\n",
              "\n",
              "      <script>\n",
              "        const buttonEl =\n",
              "          document.querySelector('#df-81fecb14-c069-4adb-a431-34a976a1c1ff button.colab-df-convert');\n",
              "        buttonEl.style.display =\n",
              "          google.colab.kernel.accessAllowed ? 'block' : 'none';\n",
              "\n",
              "        async function convertToInteractive(key) {\n",
              "          const element = document.querySelector('#df-81fecb14-c069-4adb-a431-34a976a1c1ff');\n",
              "          const dataTable =\n",
              "            await google.colab.kernel.invokeFunction('convertToInteractive',\n",
              "                                                     [key], {});\n",
              "          if (!dataTable) return;\n",
              "\n",
              "          const docLinkHtml = 'Like what you see? Visit the ' +\n",
              "            '<a target=\"_blank\" href=https://colab.research.google.com/notebooks/data_table.ipynb>data table notebook</a>'\n",
              "            + ' to learn more about interactive tables.';\n",
              "          element.innerHTML = '';\n",
              "          dataTable['output_type'] = 'display_data';\n",
              "          await google.colab.output.renderOutput(dataTable, element);\n",
              "          const docLink = document.createElement('div');\n",
              "          docLink.innerHTML = docLinkHtml;\n",
              "          element.appendChild(docLink);\n",
              "        }\n",
              "      </script>\n",
              "    </div>\n",
              "  </div>\n",
              "  "
            ]
          },
          "metadata": {},
          "execution_count": 5
        }
      ]
    },
    {
      "cell_type": "markdown",
      "source": [
        "Bierzemy się za liczenie błędów"
      ],
      "metadata": {
        "id": "vinbWjhypZm4"
      }
    },
    {
      "cell_type": "code",
      "source": [
        "results['error']=results['y_true']-results['y_pred']\n",
        "results['error_squared']=results['error']**2\n",
        "results.head()"
      ],
      "metadata": {
        "colab": {
          "base_uri": "https://localhost:8080/",
          "height": 206
        },
        "id": "StAKSGAjpGq7",
        "outputId": "abdf004f-f592-4ff0-9e93-217db45a630b"
      },
      "execution_count": 6,
      "outputs": [
        {
          "output_type": "execute_result",
          "data": {
            "text/plain": [
              "       y_true      y_pred      error  error_squared\n",
              "0  109.934283   95.780576  14.153707     200.327434\n",
              "1   97.234714   93.028261   4.206453      17.694249\n",
              "2  112.953771  109.526626   3.427145      11.745324\n",
              "3  130.460597  122.437824   8.022773      64.364882\n",
              "4   95.316933   93.704075   1.612857       2.601308"
            ],
            "text/html": [
              "\n",
              "  <div id=\"df-3ec3494f-8706-4654-bb42-3ebe2a9bc9d7\">\n",
              "    <div class=\"colab-df-container\">\n",
              "      <div>\n",
              "<style scoped>\n",
              "    .dataframe tbody tr th:only-of-type {\n",
              "        vertical-align: middle;\n",
              "    }\n",
              "\n",
              "    .dataframe tbody tr th {\n",
              "        vertical-align: top;\n",
              "    }\n",
              "\n",
              "    .dataframe thead th {\n",
              "        text-align: right;\n",
              "    }\n",
              "</style>\n",
              "<table border=\"1\" class=\"dataframe\">\n",
              "  <thead>\n",
              "    <tr style=\"text-align: right;\">\n",
              "      <th></th>\n",
              "      <th>y_true</th>\n",
              "      <th>y_pred</th>\n",
              "      <th>error</th>\n",
              "      <th>error_squared</th>\n",
              "    </tr>\n",
              "  </thead>\n",
              "  <tbody>\n",
              "    <tr>\n",
              "      <th>0</th>\n",
              "      <td>109.934283</td>\n",
              "      <td>95.780576</td>\n",
              "      <td>14.153707</td>\n",
              "      <td>200.327434</td>\n",
              "    </tr>\n",
              "    <tr>\n",
              "      <th>1</th>\n",
              "      <td>97.234714</td>\n",
              "      <td>93.028261</td>\n",
              "      <td>4.206453</td>\n",
              "      <td>17.694249</td>\n",
              "    </tr>\n",
              "    <tr>\n",
              "      <th>2</th>\n",
              "      <td>112.953771</td>\n",
              "      <td>109.526626</td>\n",
              "      <td>3.427145</td>\n",
              "      <td>11.745324</td>\n",
              "    </tr>\n",
              "    <tr>\n",
              "      <th>3</th>\n",
              "      <td>130.460597</td>\n",
              "      <td>122.437824</td>\n",
              "      <td>8.022773</td>\n",
              "      <td>64.364882</td>\n",
              "    </tr>\n",
              "    <tr>\n",
              "      <th>4</th>\n",
              "      <td>95.316933</td>\n",
              "      <td>93.704075</td>\n",
              "      <td>1.612857</td>\n",
              "      <td>2.601308</td>\n",
              "    </tr>\n",
              "  </tbody>\n",
              "</table>\n",
              "</div>\n",
              "      <button class=\"colab-df-convert\" onclick=\"convertToInteractive('df-3ec3494f-8706-4654-bb42-3ebe2a9bc9d7')\"\n",
              "              title=\"Convert this dataframe to an interactive table.\"\n",
              "              style=\"display:none;\">\n",
              "        \n",
              "  <svg xmlns=\"http://www.w3.org/2000/svg\" height=\"24px\"viewBox=\"0 0 24 24\"\n",
              "       width=\"24px\">\n",
              "    <path d=\"M0 0h24v24H0V0z\" fill=\"none\"/>\n",
              "    <path d=\"M18.56 5.44l.94 2.06.94-2.06 2.06-.94-2.06-.94-.94-2.06-.94 2.06-2.06.94zm-11 1L8.5 8.5l.94-2.06 2.06-.94-2.06-.94L8.5 2.5l-.94 2.06-2.06.94zm10 10l.94 2.06.94-2.06 2.06-.94-2.06-.94-.94-2.06-.94 2.06-2.06.94z\"/><path d=\"M17.41 7.96l-1.37-1.37c-.4-.4-.92-.59-1.43-.59-.52 0-1.04.2-1.43.59L10.3 9.45l-7.72 7.72c-.78.78-.78 2.05 0 2.83L4 21.41c.39.39.9.59 1.41.59.51 0 1.02-.2 1.41-.59l7.78-7.78 2.81-2.81c.8-.78.8-2.07 0-2.86zM5.41 20L4 18.59l7.72-7.72 1.47 1.35L5.41 20z\"/>\n",
              "  </svg>\n",
              "      </button>\n",
              "      \n",
              "  <style>\n",
              "    .colab-df-container {\n",
              "      display:flex;\n",
              "      flex-wrap:wrap;\n",
              "      gap: 12px;\n",
              "    }\n",
              "\n",
              "    .colab-df-convert {\n",
              "      background-color: #E8F0FE;\n",
              "      border: none;\n",
              "      border-radius: 50%;\n",
              "      cursor: pointer;\n",
              "      display: none;\n",
              "      fill: #1967D2;\n",
              "      height: 32px;\n",
              "      padding: 0 0 0 0;\n",
              "      width: 32px;\n",
              "    }\n",
              "\n",
              "    .colab-df-convert:hover {\n",
              "      background-color: #E2EBFA;\n",
              "      box-shadow: 0px 1px 2px rgba(60, 64, 67, 0.3), 0px 1px 3px 1px rgba(60, 64, 67, 0.15);\n",
              "      fill: #174EA6;\n",
              "    }\n",
              "\n",
              "    [theme=dark] .colab-df-convert {\n",
              "      background-color: #3B4455;\n",
              "      fill: #D2E3FC;\n",
              "    }\n",
              "\n",
              "    [theme=dark] .colab-df-convert:hover {\n",
              "      background-color: #434B5C;\n",
              "      box-shadow: 0px 1px 3px 1px rgba(0, 0, 0, 0.15);\n",
              "      filter: drop-shadow(0px 1px 2px rgba(0, 0, 0, 0.3));\n",
              "      fill: #FFFFFF;\n",
              "    }\n",
              "  </style>\n",
              "\n",
              "      <script>\n",
              "        const buttonEl =\n",
              "          document.querySelector('#df-3ec3494f-8706-4654-bb42-3ebe2a9bc9d7 button.colab-df-convert');\n",
              "        buttonEl.style.display =\n",
              "          google.colab.kernel.accessAllowed ? 'block' : 'none';\n",
              "\n",
              "        async function convertToInteractive(key) {\n",
              "          const element = document.querySelector('#df-3ec3494f-8706-4654-bb42-3ebe2a9bc9d7');\n",
              "          const dataTable =\n",
              "            await google.colab.kernel.invokeFunction('convertToInteractive',\n",
              "                                                     [key], {});\n",
              "          if (!dataTable) return;\n",
              "\n",
              "          const docLinkHtml = 'Like what you see? Visit the ' +\n",
              "            '<a target=\"_blank\" href=https://colab.research.google.com/notebooks/data_table.ipynb>data table notebook</a>'\n",
              "            + ' to learn more about interactive tables.';\n",
              "          element.innerHTML = '';\n",
              "          dataTable['output_type'] = 'display_data';\n",
              "          await google.colab.output.renderOutput(dataTable, element);\n",
              "          const docLink = document.createElement('div');\n",
              "          docLink.innerHTML = docLinkHtml;\n",
              "          element.appendChild(docLink);\n",
              "        }\n",
              "      </script>\n",
              "    </div>\n",
              "  </div>\n",
              "  "
            ]
          },
          "metadata": {},
          "execution_count": 6
        }
      ]
    },
    {
      "cell_type": "code",
      "source": [
        "print(f\"MAE -mean absolute error: {results['error'].abs().sum()/len(results):.4f}\")\n",
        "print(f\"MSE -mean squared error: {results['error_squared'].sum()/len(results):.4f}\")\n",
        "print(f\"RMSE -root mean squared error: {np.sqrt(results['error_squared'].sum()/len(results)):.4f}\")"
      ],
      "metadata": {
        "colab": {
          "base_uri": "https://localhost:8080/"
        },
        "id": "G9HLuamfpRJx",
        "outputId": "e8d0d90e-f5b9-4c89-cc36-0a1354450746"
      },
      "execution_count": 10,
      "outputs": [
        {
          "output_type": "stream",
          "name": "stdout",
          "text": [
            "MAE -mean absolute error: 7.9922\n",
            "MSE -mean squared error: 101.1987\n",
            "RMSE -root mean squared error: 10.0598\n"
          ]
        }
      ]
    },
    {
      "cell_type": "markdown",
      "source": [
        "Interpretacja graficzna"
      ],
      "metadata": {
        "id": "aUJYnGw0xav4"
      }
    },
    {
      "cell_type": "code",
      "source": [
        "def plot_regression_results(y_true, y_pred): \n",
        "\n",
        "    results = pd.DataFrame({'y_true': y_true, 'y_pred': y_pred})\n",
        "    min = results[['y_true', 'y_pred']].min().min()\n",
        "    max = results[['y_true', 'y_pred']].max().max()\n",
        "  #wykres go.Figure z biblio plotly.\n",
        "  #Scatter czyli \n",
        "    fig = go.Figure(data=[go.Scatter(x=results['y_true'], y=results['y_pred'], mode='markers'),\n",
        "                    go.Scatter(x=[min, max], y=[min, max])],\n",
        "                    layout=go.Layout(showlegend=False, width=800,\n",
        "                                     xaxis_title='y_true', \n",
        "                                     yaxis_title='y_pred',\n",
        "                                     title='Regresja: y_true vs. y_pred'))\n",
        "    fig.show()\n",
        "\n",
        "plot_regression_results(y_true, y_pred)"
      ],
      "metadata": {
        "colab": {
          "base_uri": "https://localhost:8080/",
          "height": 562
        },
        "id": "5xpiDVWWpRMU",
        "outputId": "fde1af20-1b54-4bf5-da14-2c82bd2f5ae6"
      },
      "execution_count": 11,
      "outputs": [
        {
          "output_type": "display_data",
          "data": {
            "text/html": [
              "<html>\n",
              "<head><meta charset=\"utf-8\" /></head>\n",
              "<body>\n",
              "    <div>            <script src=\"https://cdnjs.cloudflare.com/ajax/libs/mathjax/2.7.5/MathJax.js?config=TeX-AMS-MML_SVG\"></script><script type=\"text/javascript\">if (window.MathJax) {MathJax.Hub.Config({SVG: {font: \"STIX-Web\"}});}</script>                <script type=\"text/javascript\">window.PlotlyConfig = {MathJaxConfig: 'local'};</script>\n",
              "        <script src=\"https://cdn.plot.ly/plotly-2.8.3.min.js\"></script>                <div id=\"a95a1fd4-6508-416f-9e8a-e379dc3ac690\" class=\"plotly-graph-div\" style=\"height:525px; width:800px;\"></div>            <script type=\"text/javascript\">                                    window.PLOTLYENV=window.PLOTLYENV || {};                                    if (document.getElementById(\"a95a1fd4-6508-416f-9e8a-e379dc3ac690\")) {                    Plotly.newPlot(                        \"a95a1fd4-6508-416f-9e8a-e379dc3ac690\",                        [{\"mode\":\"markers\",\"x\":[109.93428306022466,97.2347139765763,112.95377076201385,130.46059712816052,95.31693250553329,95.3172608610164,131.58425631014782,115.34869458305818,90.61051228130096,110.8512008717193,90.73164614375075,90.68540492859486,104.83924543132068,61.73439510684404,65.50164334973934,88.75424941518054,79.74337759331152,106.28494665190547,81.83951848957578,71.75392597329417,129.31297537843108,95.4844739902693,101.35056409375848,71.50503627573087,89.11234550949635,102.21845179419732,76.98012845155395,107.51396036691344,87.9872262016239,94.16612500413447,87.96586775541206,137.04556369017877,99.73005550524132,78.84578142088199,116.45089824206377,75.58312700057955,104.1772719000951,60.80659752240449,73.43627902203139,103.93722471738246,114.76933159990821,103.4273656237994,97.68703435223519,93.97792608821422,70.42956019265145,85.60311583210583,90.78722458080425,121.1424445243783,106.87236579136923,64.73919689274533],\"y\":[95.78057563972051,93.02826074892272,109.52662559674616,122.43782443594432,93.70407538887319,99.35776942916178,150.44611532225312,117.09447271137657,93.1860161885286,110.10674171405763,71.54393399076034,90.4202661741027,105.44154753073094,86.3668162316969,63.57803370192811,91.76972283851666,79.39625989625908,94.59816627571016,93.26774663472598,79.27325630016192,137.22329484886154,86.3905994423219,115.37850720311947,57.486525647808065,94.98091644749906,124.12300805229711,67.07476520024707,101.85098307088572,88.9837398525003,89.13136846297247,72.45923344475074,137.73119343823905,89.10701836798027,83.58170572723381,107.25665589972574,91.08247105075495,96.34473897673274,57.58598236034773,81.57145119572809,91.6285815530429,117.04393094594951,116.49879316662368,81.61220200662291,95.82426467353726,73.02838813513569,93.42134454987894,78.41771747202343,107.93787839353554,112.09178144753821,67.70904362507719],\"type\":\"scatter\"},{\"x\":[57.486525647808065,150.44611532225312],\"y\":[57.486525647808065,150.44611532225312],\"type\":\"scatter\"}],                        {\"showlegend\":false,\"title\":{\"text\":\"Regresja: y_true vs. y_pred\"},\"width\":800,\"xaxis\":{\"title\":{\"text\":\"y_true\"}},\"yaxis\":{\"title\":{\"text\":\"y_pred\"}},\"template\":{\"data\":{\"bar\":[{\"error_x\":{\"color\":\"#2a3f5f\"},\"error_y\":{\"color\":\"#2a3f5f\"},\"marker\":{\"line\":{\"color\":\"#E5ECF6\",\"width\":0.5},\"pattern\":{\"fillmode\":\"overlay\",\"size\":10,\"solidity\":0.2}},\"type\":\"bar\"}],\"barpolar\":[{\"marker\":{\"line\":{\"color\":\"#E5ECF6\",\"width\":0.5},\"pattern\":{\"fillmode\":\"overlay\",\"size\":10,\"solidity\":0.2}},\"type\":\"barpolar\"}],\"carpet\":[{\"aaxis\":{\"endlinecolor\":\"#2a3f5f\",\"gridcolor\":\"white\",\"linecolor\":\"white\",\"minorgridcolor\":\"white\",\"startlinecolor\":\"#2a3f5f\"},\"baxis\":{\"endlinecolor\":\"#2a3f5f\",\"gridcolor\":\"white\",\"linecolor\":\"white\",\"minorgridcolor\":\"white\",\"startlinecolor\":\"#2a3f5f\"},\"type\":\"carpet\"}],\"choropleth\":[{\"colorbar\":{\"outlinewidth\":0,\"ticks\":\"\"},\"type\":\"choropleth\"}],\"contour\":[{\"colorbar\":{\"outlinewidth\":0,\"ticks\":\"\"},\"colorscale\":[[0.0,\"#0d0887\"],[0.1111111111111111,\"#46039f\"],[0.2222222222222222,\"#7201a8\"],[0.3333333333333333,\"#9c179e\"],[0.4444444444444444,\"#bd3786\"],[0.5555555555555556,\"#d8576b\"],[0.6666666666666666,\"#ed7953\"],[0.7777777777777778,\"#fb9f3a\"],[0.8888888888888888,\"#fdca26\"],[1.0,\"#f0f921\"]],\"type\":\"contour\"}],\"contourcarpet\":[{\"colorbar\":{\"outlinewidth\":0,\"ticks\":\"\"},\"type\":\"contourcarpet\"}],\"heatmap\":[{\"colorbar\":{\"outlinewidth\":0,\"ticks\":\"\"},\"colorscale\":[[0.0,\"#0d0887\"],[0.1111111111111111,\"#46039f\"],[0.2222222222222222,\"#7201a8\"],[0.3333333333333333,\"#9c179e\"],[0.4444444444444444,\"#bd3786\"],[0.5555555555555556,\"#d8576b\"],[0.6666666666666666,\"#ed7953\"],[0.7777777777777778,\"#fb9f3a\"],[0.8888888888888888,\"#fdca26\"],[1.0,\"#f0f921\"]],\"type\":\"heatmap\"}],\"heatmapgl\":[{\"colorbar\":{\"outlinewidth\":0,\"ticks\":\"\"},\"colorscale\":[[0.0,\"#0d0887\"],[0.1111111111111111,\"#46039f\"],[0.2222222222222222,\"#7201a8\"],[0.3333333333333333,\"#9c179e\"],[0.4444444444444444,\"#bd3786\"],[0.5555555555555556,\"#d8576b\"],[0.6666666666666666,\"#ed7953\"],[0.7777777777777778,\"#fb9f3a\"],[0.8888888888888888,\"#fdca26\"],[1.0,\"#f0f921\"]],\"type\":\"heatmapgl\"}],\"histogram\":[{\"marker\":{\"pattern\":{\"fillmode\":\"overlay\",\"size\":10,\"solidity\":0.2}},\"type\":\"histogram\"}],\"histogram2d\":[{\"colorbar\":{\"outlinewidth\":0,\"ticks\":\"\"},\"colorscale\":[[0.0,\"#0d0887\"],[0.1111111111111111,\"#46039f\"],[0.2222222222222222,\"#7201a8\"],[0.3333333333333333,\"#9c179e\"],[0.4444444444444444,\"#bd3786\"],[0.5555555555555556,\"#d8576b\"],[0.6666666666666666,\"#ed7953\"],[0.7777777777777778,\"#fb9f3a\"],[0.8888888888888888,\"#fdca26\"],[1.0,\"#f0f921\"]],\"type\":\"histogram2d\"}],\"histogram2dcontour\":[{\"colorbar\":{\"outlinewidth\":0,\"ticks\":\"\"},\"colorscale\":[[0.0,\"#0d0887\"],[0.1111111111111111,\"#46039f\"],[0.2222222222222222,\"#7201a8\"],[0.3333333333333333,\"#9c179e\"],[0.4444444444444444,\"#bd3786\"],[0.5555555555555556,\"#d8576b\"],[0.6666666666666666,\"#ed7953\"],[0.7777777777777778,\"#fb9f3a\"],[0.8888888888888888,\"#fdca26\"],[1.0,\"#f0f921\"]],\"type\":\"histogram2dcontour\"}],\"mesh3d\":[{\"colorbar\":{\"outlinewidth\":0,\"ticks\":\"\"},\"type\":\"mesh3d\"}],\"parcoords\":[{\"line\":{\"colorbar\":{\"outlinewidth\":0,\"ticks\":\"\"}},\"type\":\"parcoords\"}],\"pie\":[{\"automargin\":true,\"type\":\"pie\"}],\"scatter\":[{\"marker\":{\"colorbar\":{\"outlinewidth\":0,\"ticks\":\"\"}},\"type\":\"scatter\"}],\"scatter3d\":[{\"line\":{\"colorbar\":{\"outlinewidth\":0,\"ticks\":\"\"}},\"marker\":{\"colorbar\":{\"outlinewidth\":0,\"ticks\":\"\"}},\"type\":\"scatter3d\"}],\"scattercarpet\":[{\"marker\":{\"colorbar\":{\"outlinewidth\":0,\"ticks\":\"\"}},\"type\":\"scattercarpet\"}],\"scattergeo\":[{\"marker\":{\"colorbar\":{\"outlinewidth\":0,\"ticks\":\"\"}},\"type\":\"scattergeo\"}],\"scattergl\":[{\"marker\":{\"colorbar\":{\"outlinewidth\":0,\"ticks\":\"\"}},\"type\":\"scattergl\"}],\"scattermapbox\":[{\"marker\":{\"colorbar\":{\"outlinewidth\":0,\"ticks\":\"\"}},\"type\":\"scattermapbox\"}],\"scatterpolar\":[{\"marker\":{\"colorbar\":{\"outlinewidth\":0,\"ticks\":\"\"}},\"type\":\"scatterpolar\"}],\"scatterpolargl\":[{\"marker\":{\"colorbar\":{\"outlinewidth\":0,\"ticks\":\"\"}},\"type\":\"scatterpolargl\"}],\"scatterternary\":[{\"marker\":{\"colorbar\":{\"outlinewidth\":0,\"ticks\":\"\"}},\"type\":\"scatterternary\"}],\"surface\":[{\"colorbar\":{\"outlinewidth\":0,\"ticks\":\"\"},\"colorscale\":[[0.0,\"#0d0887\"],[0.1111111111111111,\"#46039f\"],[0.2222222222222222,\"#7201a8\"],[0.3333333333333333,\"#9c179e\"],[0.4444444444444444,\"#bd3786\"],[0.5555555555555556,\"#d8576b\"],[0.6666666666666666,\"#ed7953\"],[0.7777777777777778,\"#fb9f3a\"],[0.8888888888888888,\"#fdca26\"],[1.0,\"#f0f921\"]],\"type\":\"surface\"}],\"table\":[{\"cells\":{\"fill\":{\"color\":\"#EBF0F8\"},\"line\":{\"color\":\"white\"}},\"header\":{\"fill\":{\"color\":\"#C8D4E3\"},\"line\":{\"color\":\"white\"}},\"type\":\"table\"}]},\"layout\":{\"annotationdefaults\":{\"arrowcolor\":\"#2a3f5f\",\"arrowhead\":0,\"arrowwidth\":1},\"autotypenumbers\":\"strict\",\"coloraxis\":{\"colorbar\":{\"outlinewidth\":0,\"ticks\":\"\"}},\"colorscale\":{\"diverging\":[[0,\"#8e0152\"],[0.1,\"#c51b7d\"],[0.2,\"#de77ae\"],[0.3,\"#f1b6da\"],[0.4,\"#fde0ef\"],[0.5,\"#f7f7f7\"],[0.6,\"#e6f5d0\"],[0.7,\"#b8e186\"],[0.8,\"#7fbc41\"],[0.9,\"#4d9221\"],[1,\"#276419\"]],\"sequential\":[[0.0,\"#0d0887\"],[0.1111111111111111,\"#46039f\"],[0.2222222222222222,\"#7201a8\"],[0.3333333333333333,\"#9c179e\"],[0.4444444444444444,\"#bd3786\"],[0.5555555555555556,\"#d8576b\"],[0.6666666666666666,\"#ed7953\"],[0.7777777777777778,\"#fb9f3a\"],[0.8888888888888888,\"#fdca26\"],[1.0,\"#f0f921\"]],\"sequentialminus\":[[0.0,\"#0d0887\"],[0.1111111111111111,\"#46039f\"],[0.2222222222222222,\"#7201a8\"],[0.3333333333333333,\"#9c179e\"],[0.4444444444444444,\"#bd3786\"],[0.5555555555555556,\"#d8576b\"],[0.6666666666666666,\"#ed7953\"],[0.7777777777777778,\"#fb9f3a\"],[0.8888888888888888,\"#fdca26\"],[1.0,\"#f0f921\"]]},\"colorway\":[\"#636efa\",\"#EF553B\",\"#00cc96\",\"#ab63fa\",\"#FFA15A\",\"#19d3f3\",\"#FF6692\",\"#B6E880\",\"#FF97FF\",\"#FECB52\"],\"font\":{\"color\":\"#2a3f5f\"},\"geo\":{\"bgcolor\":\"white\",\"lakecolor\":\"white\",\"landcolor\":\"#E5ECF6\",\"showlakes\":true,\"showland\":true,\"subunitcolor\":\"white\"},\"hoverlabel\":{\"align\":\"left\"},\"hovermode\":\"closest\",\"mapbox\":{\"style\":\"light\"},\"paper_bgcolor\":\"white\",\"plot_bgcolor\":\"#E5ECF6\",\"polar\":{\"angularaxis\":{\"gridcolor\":\"white\",\"linecolor\":\"white\",\"ticks\":\"\"},\"bgcolor\":\"#E5ECF6\",\"radialaxis\":{\"gridcolor\":\"white\",\"linecolor\":\"white\",\"ticks\":\"\"}},\"scene\":{\"xaxis\":{\"backgroundcolor\":\"#E5ECF6\",\"gridcolor\":\"white\",\"gridwidth\":2,\"linecolor\":\"white\",\"showbackground\":true,\"ticks\":\"\",\"zerolinecolor\":\"white\"},\"yaxis\":{\"backgroundcolor\":\"#E5ECF6\",\"gridcolor\":\"white\",\"gridwidth\":2,\"linecolor\":\"white\",\"showbackground\":true,\"ticks\":\"\",\"zerolinecolor\":\"white\"},\"zaxis\":{\"backgroundcolor\":\"#E5ECF6\",\"gridcolor\":\"white\",\"gridwidth\":2,\"linecolor\":\"white\",\"showbackground\":true,\"ticks\":\"\",\"zerolinecolor\":\"white\"}},\"shapedefaults\":{\"line\":{\"color\":\"#2a3f5f\"}},\"ternary\":{\"aaxis\":{\"gridcolor\":\"white\",\"linecolor\":\"white\",\"ticks\":\"\"},\"baxis\":{\"gridcolor\":\"white\",\"linecolor\":\"white\",\"ticks\":\"\"},\"bgcolor\":\"#E5ECF6\",\"caxis\":{\"gridcolor\":\"white\",\"linecolor\":\"white\",\"ticks\":\"\"}},\"title\":{\"x\":0.05},\"xaxis\":{\"automargin\":true,\"gridcolor\":\"white\",\"linecolor\":\"white\",\"ticks\":\"\",\"title\":{\"standoff\":15},\"zerolinecolor\":\"white\",\"zerolinewidth\":2},\"yaxis\":{\"automargin\":true,\"gridcolor\":\"white\",\"linecolor\":\"white\",\"ticks\":\"\",\"title\":{\"standoff\":15},\"zerolinecolor\":\"white\",\"zerolinewidth\":2}}}},                        {\"responsive\": true}                    ).then(function(){\n",
              "                            \n",
              "var gd = document.getElementById('a95a1fd4-6508-416f-9e8a-e379dc3ac690');\n",
              "var x = new MutationObserver(function (mutations, observer) {{\n",
              "        var display = window.getComputedStyle(gd).display;\n",
              "        if (!display || display === 'none') {{\n",
              "            console.log([gd, 'removed!']);\n",
              "            Plotly.purge(gd);\n",
              "            observer.disconnect();\n",
              "        }}\n",
              "}});\n",
              "\n",
              "// Listen for the removal of the full notebook cells\n",
              "var notebookContainer = gd.closest('#notebook-container');\n",
              "if (notebookContainer) {{\n",
              "    x.observe(notebookContainer, {childList: true});\n",
              "}}\n",
              "\n",
              "// Listen for the clearing of the current output cell\n",
              "var outputEl = gd.closest('.output');\n",
              "if (outputEl) {{\n",
              "    x.observe(outputEl, {childList: true});\n",
              "}}\n",
              "\n",
              "                        })                };                            </script>        </div>\n",
              "</body>\n",
              "</html>"
            ]
          },
          "metadata": {}
        }
      ]
    },
    {
      "cell_type": "code",
      "source": [
        "#histogram bledu \n",
        "y_true=100+20*np.random.randn(1000)\n",
        "y_pred =y_true+10*np.random.rand(1000)\n",
        "\n",
        "results=pd.DataFrame({'y_true':y_true,'y_pred':y_pred})\n",
        "results['error']=results['y_true']-results['y_pred']\n",
        "\n",
        "px.histogram(results,x='error',nbins=50,width=800)"
      ],
      "metadata": {
        "colab": {
          "base_uri": "https://localhost:8080/",
          "height": 562
        },
        "id": "wp5GIP-20TaA",
        "outputId": "87cf76ea-e6dd-4138-fccd-93c068d20cf1"
      },
      "execution_count": 12,
      "outputs": [
        {
          "output_type": "display_data",
          "data": {
            "text/html": [
              "<html>\n",
              "<head><meta charset=\"utf-8\" /></head>\n",
              "<body>\n",
              "    <div>            <script src=\"https://cdnjs.cloudflare.com/ajax/libs/mathjax/2.7.5/MathJax.js?config=TeX-AMS-MML_SVG\"></script><script type=\"text/javascript\">if (window.MathJax) {MathJax.Hub.Config({SVG: {font: \"STIX-Web\"}});}</script>                <script type=\"text/javascript\">window.PlotlyConfig = {MathJaxConfig: 'local'};</script>\n",
              "        <script src=\"https://cdn.plot.ly/plotly-2.8.3.min.js\"></script>                <div id=\"046fc93e-fd08-49a2-8dcf-505f264cc225\" class=\"plotly-graph-div\" style=\"height:525px; width:800px;\"></div>            <script type=\"text/javascript\">                                    window.PLOTLYENV=window.PLOTLYENV || {};                                    if (document.getElementById(\"046fc93e-fd08-49a2-8dcf-505f264cc225\")) {                    Plotly.newPlot(                        \"046fc93e-fd08-49a2-8dcf-505f264cc225\",                        [{\"alignmentgroup\":\"True\",\"bingroup\":\"x\",\"hovertemplate\":\"error=%{x}<br>count=%{y}<extra></extra>\",\"legendgroup\":\"\",\"marker\":{\"color\":\"#636efa\",\"pattern\":{\"shape\":\"\"}},\"name\":\"\",\"nbinsx\":50,\"offsetgroup\":\"\",\"orientation\":\"v\",\"showlegend\":false,\"x\":[-3.8855810127034545,-4.4869362262253105,-2.3754413087432766,-3.7325179162934035,-2.2726962726315207,-0.7319592376844355,-6.034485933813784,-6.682127985550167,-6.194903460096143,-4.634940438005728,-3.797857801792304,-8.633336495718254,-5.190817851362169,-4.791818776297305,-0.2564206580643571,-3.4124782762615666,-3.801956187858565,-3.9882278089690146,-5.8017236922733275,-5.336025467268783,-6.079050927934446,-7.648832615421284,-8.12985738716094,-7.181230762264946,-9.555236959549347,-0.1823258267636163,-1.957779856835458,-0.07562874978142986,-6.4747471415460325,-8.98030548949987,-2.43482296576299,-9.270345447963066,-0.602673902895603,-9.34436026805514,-3.516226872396345,-1.0142082844921703,-4.858717591863254,-2.567765677205074,-2.8487290196192276,-3.0728996492628653,-8.030258978326628,-5.391612766752544,-3.1130769915600354,-6.10333783310918,-7.161506742231936,-2.726240007335335,-4.135491015253521,-1.21886093336947,-1.8114934953468094,-6.8111785396498306,-1.814383476956266,-5.251633836670607,-7.090462617224318,-1.0687692309474386,-5.673122196289029,-2.5656278370136363,-9.629268752375793,-4.835456467199251,-8.059925497751578,-5.502265421562612,-0.4341253285481912,-6.331513755940222,-9.514033422066575,-6.016118201463314,-8.191888594267894,-8.842064633484085,-2.2807977194893283,-2.120448399082264,-6.109809888509915,-4.110284698067048,-8.3986130286672,-9.00023123398011,-3.5342137930271775,-2.3687055897448204,-7.805255152438619,-2.748060355481357,-8.226143185136777,-4.23738253648763,-6.6754989929147115,-0.9553531383466805,-6.238593246765731,-4.517676787372295,-5.866084631754745,-1.680142077448636,-7.368737449441824,-8.627970775432289,-2.1673980009077596,-0.9571455552016204,-0.23638586046335774,-6.4197150044326605,-6.070940360887803,-5.466974127140702,-2.3194709611597517,-3.909059959055142,-5.944763351861724,-4.9676685885916925,-9.877855202148865,-1.3643975255673269,-6.95144554047593,-4.043187681042923,-4.281996149256145,-7.175977656581765,-6.924361513243696,-9.912559937021896,-1.283942894541255,-1.041096493841664,-7.243388171287407,-5.783869170064094,-2.7416066655980558,-0.794193689889866,-0.8565824959643038,-8.941908746641175,-1.918673247187428,-3.2337156211552127,-2.2665640222698755,-3.5499630583193778,-0.694238427460931,-5.1905979090826975,-0.6761256359221477,-8.003565078223616,-2.337120819104342,-5.4001191460451,-8.800790875614581,-6.508773690471941,-5.329577865513357,-3.243337531153756,-3.3300191305819737,-6.6948695519818955,-9.94139361221167,-6.618391898493783,-5.5778341737002535,-7.306505102392464,-4.652056122837195,-0.6014234260078553,-5.622968158779088,-9.576252845053794,-1.7530294235765922,-6.9000489082066565,-2.0093368865905603,-5.35827684473081,-0.9667644964671922,-4.5037093625818585,-7.561633288952464,-3.4757152423898248,-6.649117244872173,-7.95449960789729,-9.271778194794521,-2.3464208185545345,-3.9931591580930785,-1.5241601333041785,-9.924835021583746,-9.27000967924296,-5.399571302805597,-8.420332943764208,-5.209579772720417,-6.2358568800275975,-0.8912443211601726,-7.55270420496808,-1.2771348363523458,-8.260676302525283,-7.820280876703862,-7.087446977429764,-0.3616038052476256,-3.0312835594532856,-2.6311256991084377,-3.6013640747151925,-0.8764274676383792,-9.369578230310623,-5.538022407123762,-3.0552431065802352,-3.9698151707428337,-4.472025405048356,-6.005943333606169,-5.156794276964973,-9.193919732144181,-4.9696348290583074,-9.921580148233133,-8.514249577450954,-2.085105143573358,-9.305952146439168,-1.163663978854757,-8.17449708491192,-3.806232934765802,-8.779743204450696,-8.6805669010745,-8.059254001176214,-7.900304363070617,-3.0467913909804025,-0.8091928305125151,-4.029801787651607,-1.7352451498650936,-6.949510889024623,-3.4609972653778556,-9.756102008599143,-6.409720773453316,-8.224805636343604,-1.325246727418488,-8.620144822726218,-9.227571905133942,-4.870619188189352,-6.062529377509776,-7.648098009029951,-1.7483862726041224,-5.025660764634424,-3.986630277723137,-1.4637399216224907,-3.6753442229153137,-0.6817230938549415,-0.2581190694948674,-1.35166289154823,-9.63115111589174,-5.495295358950159,-9.658221611532198,-4.324978783301319,-3.118161330852601,-5.061418628402436,-4.395116886329106,-1.0566468426174396,-6.408263146902058,-2.160381825095996,-6.195879548978297,-6.50201092398153,-1.5202485312864837,-0.6134962711066834,-7.807615860684393,-4.598004237693203,-0.5816379550547595,-9.948663171697675,-0.5778056099636615,-6.950352288585535,-9.836789252634134,-2.3918010421592584,-1.4224936868719595,-1.2138493942242832,-3.0327514756759513,-1.0104581101064696,-6.921613416941327,-0.6229179813006169,-5.094221281497894,-9.96696853852977,-8.139702695060194,-6.152194382310114,-3.062536207866117,-6.238958362916378,-5.270414639116524,-4.260833838903707,-1.3071037674019976,-8.866042152404674,-4.497846488213227,-1.94622511820765,-3.677593508772901,-4.141297525289275,-8.275378955668742,-7.3361438056140145,-7.693048936413405,-0.11031264428646637,-4.161539981797617,-4.813441516353237,-0.19192276823056886,-2.598132087450338,-7.602898231221346,-1.3710970572899868,-5.353101314525915,-2.1520187201723786,-0.12120774643892673,-2.412014575995414,-9.758737549100545,-8.01537111882989,-9.595766443210337,-4.878540439263631,-1.0973619867750415,-5.479594889736916,-4.543773345599604,-8.443570827396158,-0.9808258078424501,-4.882411370217795,-1.500486646939848,-3.246759268900604,-7.373570773878001,-4.7601812936876655,-3.758882851457699,-3.9447627857003553,-4.594467684059865,-7.850165438370567,-8.920846889402355,-9.553346865039288,-7.8690338625529535,-3.1540689574801206,-6.881347060865423,-4.376031240553914,-2.546706220460507,-8.408715794259223,-0.3842634896232511,-9.017619921354239,-4.614774646247341,-6.372014768082806,-6.593539222057828,-8.951177407065359,-6.366696821672079,-6.13933584760062,-0.666520405606903,-5.184080219452042,-1.5016900081704136,-7.374337687214862,-5.122219208126751,-6.80227779208353,-0.4167290060238429,-0.8479201604580311,-7.163233880626819,-0.7208433599867305,-0.712567277652596,-0.12108475234887806,-9.565013982994799,-7.375083594590066,-3.5325140850206367,-2.9653558128765525,-3.497032297458489,-7.746535311811812,-6.613706110704143,-1.8519556786746847,-1.741093353340844,-0.983956497133974,-6.603027197013375,-7.643726622217358,-2.650464283250045,-0.20944961030912168,-0.821716674764275,-9.678600348450303,-2.954447774774195,-7.692231478381345,-6.246635688542639,-3.8193963965289583,-2.0568726219555487,-1.2138641815940616,-6.150129680388673,-7.7463378063778805,-6.4390425354113034,-5.303021332491582,-0.41951223431635754,-9.684887775943835,-7.987141916545738,-2.928220367009658,-9.799703293588507,-6.018815896363222,-5.82422658207247,-7.480731794295323,-8.117697880901375,-6.564786073315034,-1.2809574636620056,-3.3826750599449866,-9.280836403260494,-2.246156118438506,-3.7216702383751397,-4.32076882944196,-4.394049896944523,-6.129395824945249,-9.430758377447077,-2.4069271183250436,-1.215013763009182,-1.97470489859937,-8.869249002092701,-6.458108126552062,-2.8590678923916073,-8.159469389686166,-8.61369996363436,-8.465143386902781,-9.18926533639555,-2.5224102017336207,-7.550419287462788,-4.605394972741394,-8.419985528900611,-7.284906771616136,-7.7644744649972495,-6.5616183768107135,-1.7742876946970654,-5.450269188969386,-9.846697395245087,-9.373880664971182,-0.43173735797012114,-1.6481481572943721,-1.3172877345456158,-7.259799099852955,-8.177853298569445,-2.135113663106722,-5.058526929518294,-8.407030280111996,-7.328015447662509,-5.422372054918483,-5.903476904587734,-5.083605469162805,-2.9754845131882064,-5.650219928590161,-6.888853020500903,-8.733229158608083,-6.36291353979248,-7.61121537043158,-1.6007163495457348,-4.6155747441979,-0.09331619827092652,-2.4667886452162264,-7.264617151130054,-9.91809951349363,-0.991780995872162,-4.01494315861288,-8.000709686991598,-2.0403563462889878,-5.5508494930228665,-7.330712960296751,-6.159854502601789,-1.8802473461541638,-3.5538456868574,-7.837917844853962,-5.542265141320172,-0.05229613542913114,-7.609907600280934,-0.35311354940239426,-7.457337827312315,-2.0248056016523748,-9.580734801193806,-3.6794075130208483,-3.2693161633807932,-1.4888805033244523,-3.056042154902144,-8.766507618282006,-9.963343376272476,-3.683095305068484,-4.48610630954542,-7.220709382027366,-8.861957804650743,-5.930443341867843,-3.915256981778299,-4.126218408486238,-6.956181464968068,-0.03218263604279059,-6.195893374598413,-3.5549301044135717,-7.941973312770841,-0.9299063982313243,-5.882022669483902,-4.809728898861238,-6.423255259052269,-0.648535944829689,-5.799837874281309,-5.6148458795952365,-5.606600944161713,-6.034876665964546,-6.764679372263615,-8.049889996807693,-2.6982072012821448,-8.250494101800626,-4.982556822634535,-0.7705827913433154,-0.5855092924397951,-3.3423831869606033,-7.848969771114682,-7.076809347409153,-7.886149646724064,-5.1726905644160865,-4.401989979554912,-1.4745252670628304,-3.2819275360931215,-4.340193661738752,-0.8860042967961732,-2.206119527112108,-5.98225294063738,-7.356631142391905,-9.9834751139295,-9.331133313435572,-6.425651995351913,-4.212480532940717,-6.36177364708233,-7.856516180802316,-1.1833619092338665,-4.09904889696287,-8.398022856356164,-3.8383295193304434,-5.71872271227187,-5.877693608621982,-1.8447625313364,-3.6223544165228816,-3.345112887419319,-0.2619670853206344,-0.24191763891354867,-8.316970436757742,-2.730708099728119,-5.1807876623881555,-2.9872557358877287,-9.406792451153407,-2.592967588657743,-4.2965681273893495,-8.727302504846023,-8.41933566791809,-1.8610141784627672,-8.02643309795711,-4.58186886737893,-4.829688720853554,-1.3347997241594385,-0.8060151375712508,-7.279393069737651,-4.964611523553003,-4.3685070261518035,-7.295082286523979,-7.655128989911091,-1.5890816766935387,-6.102251494776425,-1.35354082277685,-7.5137508602904575,-6.569551562671393,-9.566146210834575,-0.6895801635642158,-0.5705472115125474,-2.8218707469320066,-2.6170568373590584,-2.4697879907199933,-9.062545805210362,-2.4954619984950597,-2.719497261286307,-7.593982624179631,-4.497398424505398,-7.767105569551802,-0.6536615756438522,-4.875711936733843,-0.336136001832827,-0.6265320345535486,-9.06437453344411,-1.3924537111759463,-5.324206822752174,-4.110956026007074,-3.473433262588429,-8.998333456872729,-0.21823396775489812,-6.637896861755891,-9.633944342135507,-5.601681834618418,-9.36822462033092,-0.5225787928602443,-4.187933190741617,-2.6015779096205165,-7.308209649807296,-9.812970904972474,-2.5653006244424716,-6.541746014740738,-1.9809763275974035,-5.653302545716102,-4.639324866883356,-9.72005329631537,-6.085272726964661,-3.4950637208681883,-1.1409578488793386,-1.5124682873493498,-2.2531692995123507,-2.5096666134029846,-8.506160578411382,-5.612227882825252,-5.233909113743664,-1.14768871869218,-8.601396933494357,-7.22814303208483,-0.6766836190000163,-7.078350972297699,-5.435382173426461,-0.8172534574677854,-4.583006415286562,-4.846962871300462,-1.6577454016327522,-9.45698147000283,-8.499753714806616,-6.69022337329109,-4.622955610006073,-4.117655415845093,-6.509734671509548,-5.454318694069059,-0.6227310588188573,-5.125026487703323,-8.0640361723284,-4.592398775969585,-0.5195657755426879,-7.862781993840329,-2.013637821359751,-2.5862083488803904,-1.6470635343229532,-3.3021506487149708,-7.56751505688635,-5.193858595039373,-2.0488127415071204,-8.778300781520414,-8.795818549515289,-8.705784250460056,-2.387962113815405,-4.512393441809877,-9.849896561408755,-7.7201247630999035,-0.2716742122556042,-0.652045912604919,-4.63931376812333,-9.092202058615598,-5.387017979527144,-4.978125080342906,-1.0547369995663018,-6.567801047242938,-8.221031606002256,-3.8042000750756273,-7.75611850925327,-9.644766539008131,-2.0376645912768936,-5.233296311947413,-2.8713795808457547,-7.9285441903384,-5.7759336588115815,-6.34582417550304,-7.979141596158939,-3.959704726624551,-9.150900684070422,-5.330288672461407,-1.5795482283534739,-6.95899118168802,-7.9326135043825445,-3.1676167706752665,-8.571792569987537,-9.06143254765766,-2.7690448737780855,-9.83521472715222,-1.407115280487588,-2.0201566840248972,-1.842248392380256,-8.93989710007871,-6.542925523249622,-1.521042832222733,-4.4032341836834945,-6.152980250698022,-0.8346408498938303,-8.824163684073383,-8.036035354415347,-5.052067735766386,-9.671266152591699,-4.177609792750999,-9.841103190364976,-6.679199988036274,-6.346712732539416,-1.6595489529578487,-8.819277583046443,-4.274896879206153,-1.6223340578247871,-0.12607519975759374,-5.597556836383831,-5.273996221226767,-7.193536223691581,-8.902580530178028,-0.7940658464302999,-7.31496490340362,-1.874119440975818,-8.581770531571635,-8.190635138616557,-5.407937549855447,-7.10242798623311,-3.143501131837482,-4.711678989328149,-8.216368977104722,-4.592651971732153,-3.5779826532544234,-4.9421244725029965,-8.282492524372188,-3.3520804737087246,-1.737615931357439,-7.1201402033078125,-8.259782127080825,-1.0063747852353373,-2.398741127559447,-1.4197198976099372,-3.479414115821669,-4.503509789054121,-7.488263369633074,-6.51147584881673,-6.2092856747843115,-3.5237494660965467,-8.414475530847596,-4.7128716739816525,-9.791049380151549,-6.341421382957364,-1.2626474156450342,-6.761775620754335,-3.2510401543169962,-6.863271966860978,-0.6964114816240539,-1.7488143717595932,-8.557372589057863,-2.271795570235156,-8.370411252429406,-2.7927608845441085,-6.428819100587077,-6.941505735098303,-5.126547531450527,-3.0531067669673178,-2.1264437637109666,-0.3318935456242684,-3.0394640124072367,-6.531627905312831,-9.383048184484835,-8.712044822630517,-7.660647765353033,-7.884473432532985,-6.649849034759953,-2.6028685756600254,-9.071950307058302,-6.707323119058344,-5.6044063098044035,-1.1098946921348158,-4.4705554380642525,-4.603582712019261,-8.645636095226706,-5.466482201877881,-3.804005489704096,-9.768003285106602,-1.1072059332631454,-4.225484283119442,-0.42024675171404624,-7.399041207669299,-9.180765521991503,-2.8003732955048974,-8.583416767991196,-2.922182304618971,-9.107701616439158,-7.539619035967846,-8.049067768414389,-0.18006555600454988,-9.628103570740251,-7.266709920703235,-3.047510953861334,-8.293946648588474,-2.8152119841493004,-8.72753839566127,-1.1258039041193655,-7.0368597746079615,-5.406984766449099,-0.9653447019544075,-2.4189382825883854,-0.1240403627731439,-4.687679654645052,-3.0126526076000033,-5.983574842977589,-2.9723780770861765,-2.9991911150698485,-7.431931987316034,-0.4814283597835356,-9.02894995191987,-8.522638743911813,-6.678046832264059,-5.932215701073844,-8.923024981396523,-1.8533017952871376,-0.7896916219082897,-2.3951016990953775,-7.945782787001903,-0.3467026672648359,-5.828068350834897,-9.954375161913106,-8.556960938375397,-5.214456890435898,-0.6364090928664297,-8.313735143857087,-5.989785081772112,-1.149329970595673,-0.9385728482335622,-9.096268194365933,-6.692002629380781,-8.292867993167562,-8.789789002822673,-5.717723520483219,-5.174463517550407,-4.304274103209906,-3.1694658779111933,-4.345959608587123,-7.738796557301569,-6.019234310151319,-8.925232899548462,-4.433800143791871,-6.070895787187538,-6.313075530919889,-5.916971623063262,-7.026337730855161,-2.37433468374806,-5.123637775457894,-1.0422480280834776,-3.8451132764481244,-4.876670686212648,-6.522242595454728,-9.50531052586203,-6.00651066548356,-7.435939161765603,-5.062660594952021,-6.341040313763315,-0.7093221613377381,-2.5439158084184754,-3.618530932051385,-4.7249335500651455,-0.4564874550238329,-1.4002409755331797,-2.7681430779130523,-9.7153269090105,-3.3134700710305083,-4.820410581120825,-1.9609771273839272,-6.107800710757687,-2.8068321551597535,-2.0699257843842673,-5.165726284459794,-0.05505799160421532,-0.07664032649225305,-2.190688091018572,-0.36721362500820476,-1.0802575413069206,-3.3886064933875275,-8.025856795798134,-5.7204864336930115,-5.126677259564161,-2.934888232081221,-9.317537194328168,-3.9701504123719076,-0.8709276679577158,-6.1706651611780075,-1.1383839347660114,-3.4522314280169155,-5.0741193871780865,-8.74222524685176,-4.935465803401186,-7.0225876603166455,-9.928168389990702,-1.314891198979815,-2.74731525519519,-3.9457607559764654,-4.218281785388314,-4.110210752655462,-9.076110025565555,-7.14032644466856,-6.079052140907038,-3.093727178627816,-8.237903842212944,-9.550605114849887,-8.211982825502261,-0.015651051914730374,-6.364013701834068,-0.5113538144210068,-2.576072203337219,-0.5952470034777235,-6.037954529493874,-6.865899134926067,-1.144876380659042,-3.8383888304498015,-4.5623650895554135,-3.690530217609165,-1.210250004851929,-4.189477901874753,-7.511780478084177,-0.7100766453325491,-0.80180014081904,-3.5477129183598493,-9.417257116189248,-6.685726467229145,-6.786699566725645,-3.619199908378647,-5.9366079120853925,-0.10131184027743245,-6.360960464095427,-9.132869475762362,-6.125734683448201,-8.736985934663451,-7.239730554660937,-1.2055841640369067,-9.024533072858418,-0.6644384435577422,-5.339674725477636,-1.4213712379345793,-0.11706610730904288,-4.2203426012764,-2.950407076541552,-4.860004937976029,-5.771998867345502,-0.4373907230894787,-1.2300329512374617,-5.586423964504249,-3.431673531726588,-7.291734875494484,-6.522916485919396,-8.45604362989907,-6.924928266692248,-4.299310773901482,-6.729666223944321,-2.7538117425541913,-3.063134987782121,-7.88985159920793,-4.46419516401582,-7.983803405183522,-8.224223736682788,-8.575623376612839,-9.16635235841207,-4.309852205132955,-3.188668183211391,-5.821987465941135,-3.711724234376277,-6.010741668002339,-7.055858626438251,-6.884050184921364,-3.7455288702012126,-1.6686020169875349,-4.305293384622075,-1.4259414408190878,-8.900970351838083,-3.4587746073785723,-1.5445974722332352,-0.254477599057509,-6.458223862864841,-6.369023174547429,-3.4060416658129213,-0.7171188884765058,-4.096288948952321,-3.1121749506339427,-6.771206397350099,-6.057792494526893,-3.6459372819754066,-2.178925542549905,-9.880359661555914,-4.540016211961145,-6.882742357802371,-1.4055296757836118,-4.855896996593984,-0.27536719869465287,-5.054551179104493,-9.640174071177029,-3.842067129858009,-0.38996012574911276,-0.30955790919342974,-3.879867599468696,-1.6002493646319351,-0.23352096328184757,-7.562136139501774,-4.5852300888189035,-2.8924477197265475,-9.000831830164813,-1.1613896020052579,-9.559188289553191,-3.1396671737735318,-8.884036723086808,-6.029428764794616,-8.267073597414878,-9.840131632104644,-2.8840543781874572,-9.611354854075927,-3.894818949024206,-3.8551190473692287,-3.403871042545063,-5.414076073475854,-1.5414504317848738,-5.537114853580107,-5.417048124100035,-7.619018126048701,-8.336499619375857,-4.404413503124246,-3.0233324935149426,-2.593348973170947,-1.9462383670487213,-0.5764758219902433,-3.424479788347128,-2.7024769213078343,-9.664173858664071,-5.577088262500439,-3.4727703903050724,-5.804676009936969,-1.3919670134569486,-4.440437492022028,-6.262343214210645,-4.888978317924511,-4.017788006543242,-9.938483888996984,-8.803147621489273,-6.234059581594408,-5.693773611822834,-6.206604798245834,-2.01312107822433,-3.9513774326431843,-0.3945953289089914,-4.755460374868264,-5.430245839576628,-2.27749736103209,-9.64028847165514,-9.094546109372416,-7.221432354559056,-5.333866287653635,-8.699691596476853,-1.3065234382346347,-7.905097942748853,-1.2482081396684777,-7.942106625494063,-2.7576756825135647,-8.770905810181887,-9.440420938253979,-1.4879596940511561,-4.626756050653938,-9.809873781626848,-4.83407435973146,-8.635475225145456],\"xaxis\":\"x\",\"yaxis\":\"y\",\"type\":\"histogram\"}],                        {\"template\":{\"data\":{\"bar\":[{\"error_x\":{\"color\":\"#2a3f5f\"},\"error_y\":{\"color\":\"#2a3f5f\"},\"marker\":{\"line\":{\"color\":\"#E5ECF6\",\"width\":0.5},\"pattern\":{\"fillmode\":\"overlay\",\"size\":10,\"solidity\":0.2}},\"type\":\"bar\"}],\"barpolar\":[{\"marker\":{\"line\":{\"color\":\"#E5ECF6\",\"width\":0.5},\"pattern\":{\"fillmode\":\"overlay\",\"size\":10,\"solidity\":0.2}},\"type\":\"barpolar\"}],\"carpet\":[{\"aaxis\":{\"endlinecolor\":\"#2a3f5f\",\"gridcolor\":\"white\",\"linecolor\":\"white\",\"minorgridcolor\":\"white\",\"startlinecolor\":\"#2a3f5f\"},\"baxis\":{\"endlinecolor\":\"#2a3f5f\",\"gridcolor\":\"white\",\"linecolor\":\"white\",\"minorgridcolor\":\"white\",\"startlinecolor\":\"#2a3f5f\"},\"type\":\"carpet\"}],\"choropleth\":[{\"colorbar\":{\"outlinewidth\":0,\"ticks\":\"\"},\"type\":\"choropleth\"}],\"contour\":[{\"colorbar\":{\"outlinewidth\":0,\"ticks\":\"\"},\"colorscale\":[[0.0,\"#0d0887\"],[0.1111111111111111,\"#46039f\"],[0.2222222222222222,\"#7201a8\"],[0.3333333333333333,\"#9c179e\"],[0.4444444444444444,\"#bd3786\"],[0.5555555555555556,\"#d8576b\"],[0.6666666666666666,\"#ed7953\"],[0.7777777777777778,\"#fb9f3a\"],[0.8888888888888888,\"#fdca26\"],[1.0,\"#f0f921\"]],\"type\":\"contour\"}],\"contourcarpet\":[{\"colorbar\":{\"outlinewidth\":0,\"ticks\":\"\"},\"type\":\"contourcarpet\"}],\"heatmap\":[{\"colorbar\":{\"outlinewidth\":0,\"ticks\":\"\"},\"colorscale\":[[0.0,\"#0d0887\"],[0.1111111111111111,\"#46039f\"],[0.2222222222222222,\"#7201a8\"],[0.3333333333333333,\"#9c179e\"],[0.4444444444444444,\"#bd3786\"],[0.5555555555555556,\"#d8576b\"],[0.6666666666666666,\"#ed7953\"],[0.7777777777777778,\"#fb9f3a\"],[0.8888888888888888,\"#fdca26\"],[1.0,\"#f0f921\"]],\"type\":\"heatmap\"}],\"heatmapgl\":[{\"colorbar\":{\"outlinewidth\":0,\"ticks\":\"\"},\"colorscale\":[[0.0,\"#0d0887\"],[0.1111111111111111,\"#46039f\"],[0.2222222222222222,\"#7201a8\"],[0.3333333333333333,\"#9c179e\"],[0.4444444444444444,\"#bd3786\"],[0.5555555555555556,\"#d8576b\"],[0.6666666666666666,\"#ed7953\"],[0.7777777777777778,\"#fb9f3a\"],[0.8888888888888888,\"#fdca26\"],[1.0,\"#f0f921\"]],\"type\":\"heatmapgl\"}],\"histogram\":[{\"marker\":{\"pattern\":{\"fillmode\":\"overlay\",\"size\":10,\"solidity\":0.2}},\"type\":\"histogram\"}],\"histogram2d\":[{\"colorbar\":{\"outlinewidth\":0,\"ticks\":\"\"},\"colorscale\":[[0.0,\"#0d0887\"],[0.1111111111111111,\"#46039f\"],[0.2222222222222222,\"#7201a8\"],[0.3333333333333333,\"#9c179e\"],[0.4444444444444444,\"#bd3786\"],[0.5555555555555556,\"#d8576b\"],[0.6666666666666666,\"#ed7953\"],[0.7777777777777778,\"#fb9f3a\"],[0.8888888888888888,\"#fdca26\"],[1.0,\"#f0f921\"]],\"type\":\"histogram2d\"}],\"histogram2dcontour\":[{\"colorbar\":{\"outlinewidth\":0,\"ticks\":\"\"},\"colorscale\":[[0.0,\"#0d0887\"],[0.1111111111111111,\"#46039f\"],[0.2222222222222222,\"#7201a8\"],[0.3333333333333333,\"#9c179e\"],[0.4444444444444444,\"#bd3786\"],[0.5555555555555556,\"#d8576b\"],[0.6666666666666666,\"#ed7953\"],[0.7777777777777778,\"#fb9f3a\"],[0.8888888888888888,\"#fdca26\"],[1.0,\"#f0f921\"]],\"type\":\"histogram2dcontour\"}],\"mesh3d\":[{\"colorbar\":{\"outlinewidth\":0,\"ticks\":\"\"},\"type\":\"mesh3d\"}],\"parcoords\":[{\"line\":{\"colorbar\":{\"outlinewidth\":0,\"ticks\":\"\"}},\"type\":\"parcoords\"}],\"pie\":[{\"automargin\":true,\"type\":\"pie\"}],\"scatter\":[{\"marker\":{\"colorbar\":{\"outlinewidth\":0,\"ticks\":\"\"}},\"type\":\"scatter\"}],\"scatter3d\":[{\"line\":{\"colorbar\":{\"outlinewidth\":0,\"ticks\":\"\"}},\"marker\":{\"colorbar\":{\"outlinewidth\":0,\"ticks\":\"\"}},\"type\":\"scatter3d\"}],\"scattercarpet\":[{\"marker\":{\"colorbar\":{\"outlinewidth\":0,\"ticks\":\"\"}},\"type\":\"scattercarpet\"}],\"scattergeo\":[{\"marker\":{\"colorbar\":{\"outlinewidth\":0,\"ticks\":\"\"}},\"type\":\"scattergeo\"}],\"scattergl\":[{\"marker\":{\"colorbar\":{\"outlinewidth\":0,\"ticks\":\"\"}},\"type\":\"scattergl\"}],\"scattermapbox\":[{\"marker\":{\"colorbar\":{\"outlinewidth\":0,\"ticks\":\"\"}},\"type\":\"scattermapbox\"}],\"scatterpolar\":[{\"marker\":{\"colorbar\":{\"outlinewidth\":0,\"ticks\":\"\"}},\"type\":\"scatterpolar\"}],\"scatterpolargl\":[{\"marker\":{\"colorbar\":{\"outlinewidth\":0,\"ticks\":\"\"}},\"type\":\"scatterpolargl\"}],\"scatterternary\":[{\"marker\":{\"colorbar\":{\"outlinewidth\":0,\"ticks\":\"\"}},\"type\":\"scatterternary\"}],\"surface\":[{\"colorbar\":{\"outlinewidth\":0,\"ticks\":\"\"},\"colorscale\":[[0.0,\"#0d0887\"],[0.1111111111111111,\"#46039f\"],[0.2222222222222222,\"#7201a8\"],[0.3333333333333333,\"#9c179e\"],[0.4444444444444444,\"#bd3786\"],[0.5555555555555556,\"#d8576b\"],[0.6666666666666666,\"#ed7953\"],[0.7777777777777778,\"#fb9f3a\"],[0.8888888888888888,\"#fdca26\"],[1.0,\"#f0f921\"]],\"type\":\"surface\"}],\"table\":[{\"cells\":{\"fill\":{\"color\":\"#EBF0F8\"},\"line\":{\"color\":\"white\"}},\"header\":{\"fill\":{\"color\":\"#C8D4E3\"},\"line\":{\"color\":\"white\"}},\"type\":\"table\"}]},\"layout\":{\"annotationdefaults\":{\"arrowcolor\":\"#2a3f5f\",\"arrowhead\":0,\"arrowwidth\":1},\"autotypenumbers\":\"strict\",\"coloraxis\":{\"colorbar\":{\"outlinewidth\":0,\"ticks\":\"\"}},\"colorscale\":{\"diverging\":[[0,\"#8e0152\"],[0.1,\"#c51b7d\"],[0.2,\"#de77ae\"],[0.3,\"#f1b6da\"],[0.4,\"#fde0ef\"],[0.5,\"#f7f7f7\"],[0.6,\"#e6f5d0\"],[0.7,\"#b8e186\"],[0.8,\"#7fbc41\"],[0.9,\"#4d9221\"],[1,\"#276419\"]],\"sequential\":[[0.0,\"#0d0887\"],[0.1111111111111111,\"#46039f\"],[0.2222222222222222,\"#7201a8\"],[0.3333333333333333,\"#9c179e\"],[0.4444444444444444,\"#bd3786\"],[0.5555555555555556,\"#d8576b\"],[0.6666666666666666,\"#ed7953\"],[0.7777777777777778,\"#fb9f3a\"],[0.8888888888888888,\"#fdca26\"],[1.0,\"#f0f921\"]],\"sequentialminus\":[[0.0,\"#0d0887\"],[0.1111111111111111,\"#46039f\"],[0.2222222222222222,\"#7201a8\"],[0.3333333333333333,\"#9c179e\"],[0.4444444444444444,\"#bd3786\"],[0.5555555555555556,\"#d8576b\"],[0.6666666666666666,\"#ed7953\"],[0.7777777777777778,\"#fb9f3a\"],[0.8888888888888888,\"#fdca26\"],[1.0,\"#f0f921\"]]},\"colorway\":[\"#636efa\",\"#EF553B\",\"#00cc96\",\"#ab63fa\",\"#FFA15A\",\"#19d3f3\",\"#FF6692\",\"#B6E880\",\"#FF97FF\",\"#FECB52\"],\"font\":{\"color\":\"#2a3f5f\"},\"geo\":{\"bgcolor\":\"white\",\"lakecolor\":\"white\",\"landcolor\":\"#E5ECF6\",\"showlakes\":true,\"showland\":true,\"subunitcolor\":\"white\"},\"hoverlabel\":{\"align\":\"left\"},\"hovermode\":\"closest\",\"mapbox\":{\"style\":\"light\"},\"paper_bgcolor\":\"white\",\"plot_bgcolor\":\"#E5ECF6\",\"polar\":{\"angularaxis\":{\"gridcolor\":\"white\",\"linecolor\":\"white\",\"ticks\":\"\"},\"bgcolor\":\"#E5ECF6\",\"radialaxis\":{\"gridcolor\":\"white\",\"linecolor\":\"white\",\"ticks\":\"\"}},\"scene\":{\"xaxis\":{\"backgroundcolor\":\"#E5ECF6\",\"gridcolor\":\"white\",\"gridwidth\":2,\"linecolor\":\"white\",\"showbackground\":true,\"ticks\":\"\",\"zerolinecolor\":\"white\"},\"yaxis\":{\"backgroundcolor\":\"#E5ECF6\",\"gridcolor\":\"white\",\"gridwidth\":2,\"linecolor\":\"white\",\"showbackground\":true,\"ticks\":\"\",\"zerolinecolor\":\"white\"},\"zaxis\":{\"backgroundcolor\":\"#E5ECF6\",\"gridcolor\":\"white\",\"gridwidth\":2,\"linecolor\":\"white\",\"showbackground\":true,\"ticks\":\"\",\"zerolinecolor\":\"white\"}},\"shapedefaults\":{\"line\":{\"color\":\"#2a3f5f\"}},\"ternary\":{\"aaxis\":{\"gridcolor\":\"white\",\"linecolor\":\"white\",\"ticks\":\"\"},\"baxis\":{\"gridcolor\":\"white\",\"linecolor\":\"white\",\"ticks\":\"\"},\"bgcolor\":\"#E5ECF6\",\"caxis\":{\"gridcolor\":\"white\",\"linecolor\":\"white\",\"ticks\":\"\"}},\"title\":{\"x\":0.05},\"xaxis\":{\"automargin\":true,\"gridcolor\":\"white\",\"linecolor\":\"white\",\"ticks\":\"\",\"title\":{\"standoff\":15},\"zerolinecolor\":\"white\",\"zerolinewidth\":2},\"yaxis\":{\"automargin\":true,\"gridcolor\":\"white\",\"linecolor\":\"white\",\"ticks\":\"\",\"title\":{\"standoff\":15},\"zerolinecolor\":\"white\",\"zerolinewidth\":2}}},\"xaxis\":{\"anchor\":\"y\",\"domain\":[0.0,1.0],\"title\":{\"text\":\"error\"}},\"yaxis\":{\"anchor\":\"x\",\"domain\":[0.0,1.0],\"title\":{\"text\":\"count\"}},\"legend\":{\"tracegroupgap\":0},\"margin\":{\"t\":60},\"barmode\":\"relative\",\"width\":800},                        {\"responsive\": true}                    ).then(function(){\n",
              "                            \n",
              "var gd = document.getElementById('046fc93e-fd08-49a2-8dcf-505f264cc225');\n",
              "var x = new MutationObserver(function (mutations, observer) {{\n",
              "        var display = window.getComputedStyle(gd).display;\n",
              "        if (!display || display === 'none') {{\n",
              "            console.log([gd, 'removed!']);\n",
              "            Plotly.purge(gd);\n",
              "            observer.disconnect();\n",
              "        }}\n",
              "}});\n",
              "\n",
              "// Listen for the removal of the full notebook cells\n",
              "var notebookContainer = gd.closest('#notebook-container');\n",
              "if (notebookContainer) {{\n",
              "    x.observe(notebookContainer, {childList: true});\n",
              "}}\n",
              "\n",
              "// Listen for the clearing of the current output cell\n",
              "var outputEl = gd.closest('.output');\n",
              "if (outputEl) {{\n",
              "    x.observe(outputEl, {childList: true});\n",
              "}}\n",
              "\n",
              "                        })                };                            </script>        </div>\n",
              "</body>\n",
              "</html>"
            ]
          },
          "metadata": {}
        }
      ]
    },
    {
      "cell_type": "markdown",
      "source": [
        "### <a name='a3'></a> Mean Absolute Error - Średni błąd bezwzględny\n",
        "### $$MAE = \\frac{1}{n}\\sum_{i=1}^{n}|y_{true} - y_{pred}|$$"
      ],
      "metadata": {
        "id": "peGTrAB839xo"
      }
    },
    {
      "cell_type": "code",
      "source": [
        "# I SPOSOB\n",
        "def mean_absolute_error(y_true,y_pred):\n",
        "  return abs(y_true-y_pred).sum()/len(y_true)\n",
        "\n",
        "mean_absolute_error(y_true,y_pred)"
      ],
      "metadata": {
        "colab": {
          "base_uri": "https://localhost:8080/"
        },
        "id": "a2fPrU6fsN6j",
        "outputId": "277acea1-0351-4638-fccb-af68a991728b"
      },
      "execution_count": 16,
      "outputs": [
        {
          "output_type": "execute_result",
          "data": {
            "text/plain": [
              "4.970701404322662"
            ]
          },
          "metadata": {},
          "execution_count": 16
        }
      ]
    },
    {
      "cell_type": "code",
      "source": [
        "# II SPOSOB\n",
        "from sklearn.metrics import mean_absolute_error\n",
        "\n",
        "mean_absolute_error(y_true,y_pred)"
      ],
      "metadata": {
        "colab": {
          "base_uri": "https://localhost:8080/"
        },
        "id": "5eMP5M3_sN-T",
        "outputId": "7b1fdb99-b2f4-464d-84e2-72692a22c125"
      },
      "execution_count": 17,
      "outputs": [
        {
          "output_type": "execute_result",
          "data": {
            "text/plain": [
              "4.970701404322662"
            ]
          },
          "metadata": {},
          "execution_count": 17
        }
      ]
    },
    {
      "cell_type": "markdown",
      "source": [
        "### <a name='a4'></a> Mean Squared Error - MSE - Błąd średniokwadratowy\n",
        "### $$MSE = \\frac{1}{n}\\sum_{i=1}^{n}(y_{true} - y_{pred})^{2}$$"
      ],
      "metadata": {
        "id": "xKw8VzLu4jBz"
      }
    },
    {
      "cell_type": "code",
      "source": [
        "# I SPOSOB \n",
        "def mean_squared_error(y_true,y_pred):\n",
        "    return ((y_true-y_pred)**2).sum()/len(y_true)\n",
        "\n",
        "mean_squared_error(y_true,y_pred)"
      ],
      "metadata": {
        "colab": {
          "base_uri": "https://localhost:8080/"
        },
        "id": "NygyNUtUsOCI",
        "outputId": "0aabeb3c-32ca-4045-bdf9-93bf65833f6c"
      },
      "execution_count": 19,
      "outputs": [
        {
          "output_type": "execute_result",
          "data": {
            "text/plain": [
              "32.888243069751574"
            ]
          },
          "metadata": {},
          "execution_count": 19
        }
      ]
    },
    {
      "cell_type": "code",
      "source": [
        "# II SPOSOB \n",
        "\n",
        "from sklearn.metrics import mean_squared_error\n",
        "mean_squared_error(y_true,y_pred)"
      ],
      "metadata": {
        "colab": {
          "base_uri": "https://localhost:8080/"
        },
        "id": "671abD_hpGtq",
        "outputId": "cca3a645-d85a-42b6-fe33-537c3fd3e1d2"
      },
      "execution_count": 21,
      "outputs": [
        {
          "output_type": "execute_result",
          "data": {
            "text/plain": [
              "32.888243069751574"
            ]
          },
          "metadata": {},
          "execution_count": 21
        }
      ]
    },
    {
      "cell_type": "markdown",
      "source": [
        "### <a name='a5'></a> Root Mean Squared Error - RMSE - Pierwiastek błędu średniokwadratowego\n",
        "### $$RMSE = \\sqrt{MSE}$$"
      ],
      "metadata": {
        "id": "aeeFSntc5NqA"
      }
    },
    {
      "cell_type": "code",
      "source": [
        "def root_mean_squared_error(y_true,y_pred):\n",
        "  return np.sqrt(((y_true-y_pred)**2).sum()/len(y_true))\n",
        "\n",
        "root_mean_squared_error(y_true,y_pred)"
      ],
      "metadata": {
        "colab": {
          "base_uri": "https://localhost:8080/"
        },
        "id": "Bux1_pY_5BQ5",
        "outputId": "a752c68c-f924-4652-c8c1-07aaf0e9a733"
      },
      "execution_count": 23,
      "outputs": [
        {
          "output_type": "execute_result",
          "data": {
            "text/plain": [
              "5.734827204873009"
            ]
          },
          "metadata": {},
          "execution_count": 23
        }
      ]
    },
    {
      "cell_type": "markdown",
      "source": [
        "### <a name='a6'></a>  Max Error - Błąd maksymalny\n",
        "\n",
        "$$ME = max(|y\\_true - y\\_pred|)$$ "
      ],
      "metadata": {
        "id": "9SIoQFdZ5nPq"
      }
    },
    {
      "cell_type": "code",
      "source": [
        "# I SPOSOB \n",
        "def max_error(y_true,y_pred):\n",
        "  return abs(y_true-y_pred).max()\n",
        "max_error(y_true,y_pred)"
      ],
      "metadata": {
        "colab": {
          "base_uri": "https://localhost:8080/"
        },
        "id": "QOLSTQVF5OuI",
        "outputId": "10369cc2-169d-4fc0-82f9-92f8996ab000"
      },
      "execution_count": 25,
      "outputs": [
        {
          "output_type": "execute_result",
          "data": {
            "text/plain": [
              "9.9834751139295"
            ]
          },
          "metadata": {},
          "execution_count": 25
        }
      ]
    },
    {
      "cell_type": "code",
      "source": [
        "# II SPOSOB\n",
        "from sklearn.metrics import max_error \n",
        "max_error(y_true,y_pred)"
      ],
      "metadata": {
        "colab": {
          "base_uri": "https://localhost:8080/"
        },
        "id": "-p1uQ79u5Oye",
        "outputId": "cc6c7415-c3df-4719-fa1e-1b0204307b93"
      },
      "execution_count": 26,
      "outputs": [
        {
          "output_type": "execute_result",
          "data": {
            "text/plain": [
              "9.9834751139295"
            ]
          },
          "metadata": {},
          "execution_count": 26
        }
      ]
    },
    {
      "cell_type": "markdown",
      "source": [
        "### <a name='a7'></a>  R2 score - współczynnik determinacji\n",
        "### $$R2\\_score = 1 - \\frac{\\sum_{i=1}^{N}(y_{true} - y_{pred})^{2}}{\\sum_{i=1}^{N}(y_{true} - \\overline{y_{true}})^{2}}$$"
      ],
      "metadata": {
        "id": "4pSajRO16B2I"
      }
    },
    {
      "cell_type": "code",
      "source": [
        "# I SPOSOB \n",
        "from sklearn.metrics import r2_score\n",
        "r2_score(y_true,y_pred)"
      ],
      "metadata": {
        "colab": {
          "base_uri": "https://localhost:8080/"
        },
        "id": "fyHh-_p66A1D",
        "outputId": "17e77bf2-8c50-451d-c81b-a546062cfe12"
      },
      "execution_count": 28,
      "outputs": [
        {
          "output_type": "execute_result",
          "data": {
            "text/plain": [
              "0.9151141429086599"
            ]
          },
          "metadata": {},
          "execution_count": 28
        }
      ]
    },
    {
      "cell_type": "code",
      "source": [
        "# II SPOOSB \n",
        "\n",
        "def r2_score(y_true,y_pred):\n",
        "  numerator=((y_true-y_pred)**2).sum()\n",
        "  denominator=((y_true-y_true.mean())**2).sum()\n",
        "  try:\n",
        "    r2=1-numerator/denominator\n",
        "  except ZeroDivisionError:\n",
        "    print(\"Dzielenie przez zero\")\n",
        "  return r2\n",
        "\n",
        "r2_score(y_true,y_pred)"
      ],
      "metadata": {
        "colab": {
          "base_uri": "https://localhost:8080/"
        },
        "id": "mM4H7umY6K96",
        "outputId": "a66f2cea-bb17-4095-ab82-0422eed76328"
      },
      "execution_count": 29,
      "outputs": [
        {
          "output_type": "execute_result",
          "data": {
            "text/plain": [
              "0.9151141429086599"
            ]
          },
          "metadata": {},
          "execution_count": 29
        }
      ]
    },
    {
      "cell_type": "code",
      "source": [
        ""
      ],
      "metadata": {
        "id": "Nv4gpzRm65kv"
      },
      "execution_count": null,
      "outputs": []
    }
  ]
}