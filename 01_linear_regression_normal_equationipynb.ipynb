{
  "nbformat": 4,
  "nbformat_minor": 0,
  "metadata": {
    "colab": {
      "name": "01_linear_regression_normal_equationipynb",
      "provenance": [],
      "authorship_tag": "ABX9TyOFYlt0+XNwG3GjJ1rST0Nm",
      "include_colab_link": true
    },
    "kernelspec": {
      "name": "python3",
      "display_name": "Python 3"
    },
    "language_info": {
      "name": "python"
    }
  },
  "cells": [
    {
      "cell_type": "markdown",
      "metadata": {
        "id": "view-in-github",
        "colab_type": "text"
      },
      "source": [
        "<a href=\"https://colab.research.google.com/github/endzix22/machine-learning-bootcamp/blob/main/01_linear_regression_normal_equationipynb.ipynb\" target=\"_parent\"><img src=\"https://colab.research.google.com/assets/colab-badge.svg\" alt=\"Open In Colab\"/></a>"
      ]
    },
    {
      "cell_type": "code",
      "execution_count": 1,
      "metadata": {
        "id": "HR6TLcY05qn_"
      },
      "outputs": [],
      "source": [
        "import numpy as np"
      ]
    },
    {
      "cell_type": "markdown",
      "source": [
        "nana"
      ],
      "metadata": {
        "id": "HaoYFmL15sFy"
      }
    },
    {
      "cell_type": "markdown",
      "source": [
        "uwaga te same dane zostaly wziete co mam w zeszycie "
      ],
      "metadata": {
        "id": "5b61iFnbXjLn"
      }
    },
    {
      "cell_type": "code",
      "source": [
        "x1=np.array([1,2,3,4,5,6])\n",
        "y=np.array([3000,3250,3500,3750,4000,4250])\n",
        "m=len(x1)\n",
        "\n",
        "print(f'lata pracy: {x1}')\n",
        "print(f'wynagrodzenie: {y}')\n",
        "print(f'liczba probek: {m}')"
      ],
      "metadata": {
        "colab": {
          "base_uri": "https://localhost:8080/"
        },
        "id": "iVzzNYNx5tR6",
        "outputId": "611c1f1f-78fa-4d69-f84f-2e8eb67ffac5"
      },
      "execution_count": 5,
      "outputs": [
        {
          "output_type": "stream",
          "name": "stdout",
          "text": [
            "lata pracy: [1 2 3 4 5 6]\n",
            "wynagrodzenie: [3000 3250 3500 3750 4000 4250]\n",
            "liczba probek: 6\n"
          ]
        }
      ]
    },
    {
      "cell_type": "code",
      "source": [
        "#zmienimy rozmiar naszych danych abysmy mogli dalej z nimi pracowac\n",
        "x1=x1.reshape(m,1)\n",
        "print(x1)\n",
        "print(x1.shape)"
      ],
      "metadata": {
        "colab": {
          "base_uri": "https://localhost:8080/"
        },
        "id": "L5q9nwrWXUyq",
        "outputId": "f8e85f10-041f-4d1a-e5e0-98ce3fe077d5"
      },
      "execution_count": 8,
      "outputs": [
        {
          "output_type": "stream",
          "name": "stdout",
          "text": [
            "[[1]\n",
            " [2]\n",
            " [3]\n",
            " [4]\n",
            " [5]\n",
            " [6]]\n",
            "(6, 1)\n"
          ]
        }
      ]
    },
    {
      "cell_type": "code",
      "source": [
        "#teraz czas wygenerowac ten wektor 1 w x (spojrz zeszyt)\n",
        "#powszechnie nazywany jest bias\n",
        "bias=np.ones((m,1))\n",
        "print(bias)\n",
        "print(bias.shape)"
      ],
      "metadata": {
        "colab": {
          "base_uri": "https://localhost:8080/"
        },
        "id": "EsMA4UA6XU1W",
        "outputId": "6d715920-bbac-488f-bfd9-6740827d656f"
      },
      "execution_count": 13,
      "outputs": [
        {
          "output_type": "stream",
          "name": "stdout",
          "text": [
            "[[1.]\n",
            " [1.]\n",
            " [1.]\n",
            " [1.]\n",
            " [1.]\n",
            " [1.]]\n",
            "(6, 1)\n"
          ]
        }
      ]
    },
    {
      "cell_type": "code",
      "source": [
        "#polaczenie tego x w calosc z bias\n",
        "x=np.append(bias,x1,axis=1)\n",
        "print(x)\n",
        "print(x.shape)"
      ],
      "metadata": {
        "colab": {
          "base_uri": "https://localhost:8080/"
        },
        "id": "ihGAiYbSYynx",
        "outputId": "fc770ec1-e7b8-48d6-eb3b-e7312fdcada8"
      },
      "execution_count": 15,
      "outputs": [
        {
          "output_type": "stream",
          "name": "stdout",
          "text": [
            "[[1. 1.]\n",
            " [1. 2.]\n",
            " [1. 3.]\n",
            " [1. 4.]\n",
            " [1. 5.]\n",
            " [1. 6.]]\n",
            "(6, 2)\n"
          ]
        }
      ]
    },
    {
      "cell_type": "markdown",
      "source": [
        "Regresja liniowa w $R^2$:\n",
        "$$Y = w_0 + w_1X_1$$\n",
        "$$Y = W^TX$$\n",
        "gdzie: $$W= \\left[\\begin{matrix}w_0\\\\w_1\\end{matrix}\\right]$$ $$ X= \\left[\\begin{matrix}1\\\\X_1\\end{matrix}\\right] $$ stąd $$ W^T= \\left[\\begin{matrix}w_0&w_1\\end{matrix}\\right] $$    \n",
        "$$Y = W^TX = \\left[\\begin{matrix}w_0&w_1\\end{matrix}\\right] \\cdot  \\left[\\begin{matrix}1\\\\X_1\\end{matrix}\\right] = w_0 + w_1X_1$$\n",
        "\n",
        "Równanie normalne - równanie pozwalające obliczyć minimum funkcji straty (o ile istnieje)\n",
        "$$W = (X^TX)^{-1}(X^TY)$$"
      ],
      "metadata": {
        "id": "Hl1zGG4IZbDS"
      }
    },
    {
      "cell_type": "markdown",
      "source": [
        "WEZMIEMY SIE ZA LICZENIE :\n",
        "$$W = (X^TX)^{-1}(X^TY)$$"
      ],
      "metadata": {
        "id": "WVCTQk4NZu32"
      }
    },
    {
      "cell_type": "code",
      "source": [
        "#TERAZ POLICZYMY xT*X\n",
        "np.dot(x.T,x)"
      ],
      "metadata": {
        "colab": {
          "base_uri": "https://localhost:8080/"
        },
        "id": "OE3pKSVLYyrF",
        "outputId": "aca345ac-93df-4c8f-eef8-fc858aa5c8a3"
      },
      "execution_count": 17,
      "outputs": [
        {
          "output_type": "execute_result",
          "data": {
            "text/plain": [
              "array([[ 6., 21.],\n",
              "       [21., 91.]])"
            ]
          },
          "metadata": {},
          "execution_count": 17
        }
      ]
    },
    {
      "cell_type": "code",
      "source": [
        "#teraz czas na (xt*x)^(-1)\n",
        "L = np.linalg.inv(np.dot(x.T, x))\n",
        "L"
      ],
      "metadata": {
        "colab": {
          "base_uri": "https://localhost:8080/"
        },
        "id": "kkLt-80OYytt",
        "outputId": "95aa9336-f17c-49ea-aa1d-10c7805e4775"
      },
      "execution_count": 21,
      "outputs": [
        {
          "output_type": "execute_result",
          "data": {
            "text/plain": [
              "array([[ 0.86666667, -0.2       ],\n",
              "       [-0.2       ,  0.05714286]])"
            ]
          },
          "metadata": {},
          "execution_count": 21
        }
      ]
    },
    {
      "cell_type": "code",
      "source": [
        "#teraz liczymy xT*Y\n",
        "P=np.dot(x.T,y)\n",
        "P"
      ],
      "metadata": {
        "colab": {
          "base_uri": "https://localhost:8080/"
        },
        "id": "G8tBEmWBXU4V",
        "outputId": "7f4f0888-e305-454a-b483-d56fe97dae66"
      },
      "execution_count": 22,
      "outputs": [
        {
          "output_type": "execute_result",
          "data": {
            "text/plain": [
              "array([21750., 80500.])"
            ]
          },
          "metadata": {},
          "execution_count": 22
        }
      ]
    },
    {
      "cell_type": "code",
      "source": [
        "#mnozemy nawias razy nawias otrzymujac W \n",
        "np.dot(L,P)"
      ],
      "metadata": {
        "colab": {
          "base_uri": "https://localhost:8080/"
        },
        "id": "hd4rCJaOaPRc",
        "outputId": "68bc3089-74c7-4fc5-ee46-9c7fa2e6563f"
      },
      "execution_count": 24,
      "outputs": [
        {
          "output_type": "execute_result",
          "data": {
            "text/plain": [
              "array([2750.,  250.])"
            ]
          },
          "metadata": {},
          "execution_count": 24
        }
      ]
    },
    {
      "cell_type": "markdown",
      "source": [
        "Końcowa postać modelu$$Y = 2750 + 250X_1$$"
      ],
      "metadata": {
        "id": "09tTMNr7asdC"
      }
    },
    {
      "cell_type": "markdown",
      "source": [
        "Regresja liniowa przy użyciu biblioteki scikit-learn"
      ],
      "metadata": {
        "id": "12m-YmcYa1oQ"
      }
    },
    {
      "cell_type": "code",
      "source": [
        "from sklearn.linear_model import LinearRegression \n",
        "regression=LinearRegression()\n",
        "#importujemy ta klase Linearregression\n",
        "regression.fit(x1,y)\n",
        "#dane x i y sa zdefiniowane na samej gorze notatnika\n",
        "#nie dodajemy juz na szczescie w x jedynek \n",
        "\n",
        "print(regression.intercept_)  \n",
        "#wspolczynnik b \n",
        "print(regression.coef_[0])\n",
        "#wspolczynnik a "
      ],
      "metadata": {
        "colab": {
          "base_uri": "https://localhost:8080/"
        },
        "id": "jT6jx1LJaPT_",
        "outputId": "f8f9cf26-3f6d-4baa-d88c-cb8c4063c87b"
      },
      "execution_count": 26,
      "outputs": [
        {
          "output_type": "stream",
          "name": "stdout",
          "text": [
            "2750.0\n",
            "250.0\n"
          ]
        }
      ]
    },
    {
      "cell_type": "code",
      "source": [
        ""
      ],
      "metadata": {
        "id": "notjN9slaPW3"
      },
      "execution_count": null,
      "outputs": []
    },
    {
      "cell_type": "code",
      "source": [
        ""
      ],
      "metadata": {
        "id": "-EW7MliSaPZR"
      },
      "execution_count": null,
      "outputs": []
    }
  ]
}